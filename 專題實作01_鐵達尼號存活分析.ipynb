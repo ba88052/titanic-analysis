{
  "nbformat": 4,
  "nbformat_minor": 0,
  "metadata": {
    "colab": {
      "name": "專題實作01-鐵達尼號存活分析.ipynb",
      "provenance": [],
      "collapsed_sections": [
        "huFTdQh8TaGI",
        "T7DX4-n-Q2N4",
        "NYkz2BrxQ3_F",
        "wx6h93n7Q4Ej",
        "E-lZXsdMQ4V4",
        "w1o8wlf-RKR3",
        "IkfRcVSm3AfS",
        "nP4gKmrKJY9X",
        "7HllhgOMKDx0",
        "cYWODKIWJtHz",
        "inRhQ5dfJyht",
        "VVgiBxzVUaHG"
      ],
      "authorship_tag": "ABX9TyO1LLEarOAJPNw8D5V7q1DZ",
      "include_colab_link": true
    },
    "kernelspec": {
      "name": "python3",
      "display_name": "Python 3"
    },
    "language_info": {
      "name": "python"
    }
  },
  "cells": [
    {
      "cell_type": "markdown",
      "metadata": {
        "id": "view-in-github",
        "colab_type": "text"
      },
      "source": [
        "<a href=\"https://colab.research.google.com/github/ba88052/titanic-analysis/blob/main/%E5%B0%88%E9%A1%8C%E5%AF%A6%E4%BD%9C01_%E9%90%B5%E9%81%94%E5%B0%BC%E8%99%9F%E5%AD%98%E6%B4%BB%E5%88%86%E6%9E%90.ipynb\" target=\"_parent\"><img src=\"https://colab.research.google.com/assets/colab-badge.svg\" alt=\"Open In Colab\"/></a>"
      ]
    },
    {
      "cell_type": "code",
      "source": [
        "import pandas as pd\n",
        "import matplotlib.pyplot as plt\n",
        "import seaborn as sns\n",
        "import numpy as np\n",
        "\n",
        "url_train = \"https://raw.githubusercontent.com/ba88052/titanic-analysis/main/Titanic_Data/train.csv\"\n",
        "url_test = \"https://raw.githubusercontent.com/ba88052/titanic-analysis/main/Titanic_Data/test.csv\"\n",
        "df_train = pd.read_csv(url_train)\n",
        "df_test = pd.read_csv(url_test)"
      ],
      "metadata": {
        "id": "8gh5How0kxzE"
      },
      "execution_count": null,
      "outputs": []
    },
    {
      "cell_type": "markdown",
      "source": [
        "#Day 2 鐵達尼號存活預測 - 建立第一個 Baseline 版本"
      ],
      "metadata": {
        "id": "huFTdQh8TaGI"
      }
    },
    {
      "cell_type": "markdown",
      "source": [
        "##1. 在你的 Colab 程式碼中載入 `train.csv` 資料集，可以參考這一篇 教學。"
      ],
      "metadata": {
        "id": "w_BNahP_TAS2"
      }
    },
    {
      "cell_type": "code",
      "source": [
        "import pandas as pd\n",
        "\n",
        "url_train = \"https://raw.githubusercontent.com/ba88052/titanic-analysis/main/Titanic_Data/train.csv\"\n",
        "url_test = \"https://raw.githubusercontent.com/ba88052/titanic-analysis/main/Titanic_Data/test.csv\"\n",
        "df_train = pd.read_csv(url_train)\n",
        "df_test = pd.read_csv(url_test)"
      ],
      "metadata": {
        "id": "0eOAAnhXT8Hx"
      },
      "execution_count": null,
      "outputs": []
    },
    {
      "cell_type": "markdown",
      "source": [
        "##2. 請瞭解該資料中所有欄位的定義為何？"
      ],
      "metadata": {
        "id": "Vf0MulGYTJM8"
      }
    },
    {
      "cell_type": "markdown",
      "source": [
        "Survived: 0 = No 1 = Yes\n",
        "\n",
        "PassengerId: ID號碼，從1到891號\n",
        "\n",
        "Sex: 男女生理性別 male= 男 female= 女 （需轉成編碼）\n",
        "\n",
        "SibSp: 兄弟姊妹或是配偶數量\n",
        "兄弟姐妹=兄弟，姐妹，繼兄弟，繼妹\n",
        "配偶=丈夫，妻子（情婦和未婚夫被忽略）\n",
        "\n",
        "Age: 年歲 年齡小於1時為小數。如果年齡是估計的，是xx.5的形式嗎\n",
        "\n",
        "Name:名字 可拿掉\n",
        "\n",
        "Embarked: 登船港口 C = Cherbourg, Q = Queenstown, S = Southampton 需轉成one hot編碼\n",
        "\n",
        "Fare: 乘客票價\n",
        "\n",
        "Cabin: 客艙號（有許多遺漏值）\n",
        "\n",
        "Pclass: 倉位 1 = 1st, 2 = 2nd, 3 = 3rd \n",
        "\n",
        "Parch: 父母或孩子\n",
        "父母=母親，父親\n",
        "孩子 = 女兒、兒子、繼女、繼子\n",
        "有些孩子只和保姆一起旅行，因此他們的 parch=0。\n",
        "\n",
        "Ticket: 船票編號\n"
      ],
      "metadata": {
        "id": "v6BnNJwWWgrK"
      }
    },
    {
      "cell_type": "markdown",
      "source": [
        "##3. 進一步觀察其他「數值欄位/類別欄位」的屬性與「是否生存欄位」之關係程度，找出關係大的欄位。"
      ],
      "metadata": {
        "id": "hnQuClrLTMlu"
      }
    },
    {
      "cell_type": "code",
      "source": [
        "#查看資料型態\n",
        "# df_train.describe()\n",
        "# df_train.describe(include=[object])\n",
        "# df_train.describe(include='all')\n",
        "# df_train.info()"
      ],
      "metadata": {
        "id": "ovi0xPPvchIZ"
      },
      "execution_count": null,
      "outputs": []
    },
    {
      "cell_type": "code",
      "source": [
        "#相關係數熱圖 \n",
        "import matplotlib.pyplot as plt\n",
        "import seaborn as sns\n",
        "\n",
        "corr = df_train.corr()\n",
        "cmap = sns.diverging_palette( 220 , 10 , as_cmap = True )\n",
        "sns.heatmap(\n",
        "        corr, \n",
        "        cmap = cmap,\n",
        "        square=True, \n",
        "        cbar_kws={ 'shrink' : .9 }, \n",
        "        ax = plt.subplots( figsize =( 12 , 10 ) )[1],\n",
        "        annot = True, \n",
        "        annot_kws = { 'fontsize' : 12 }\n",
        ")"
      ],
      "metadata": {
        "colab": {
          "base_uri": "https://localhost:8080/",
          "height": 602
        },
        "id": "9iZSpogieeDQ",
        "outputId": "2daca0e1-aab8-45b5-9b16-2097ceb9ea45"
      },
      "execution_count": null,
      "outputs": [
        {
          "output_type": "execute_result",
          "data": {
            "text/plain": [
              "<matplotlib.axes._subplots.AxesSubplot at 0x7feabde3aed0>"
            ]
          },
          "metadata": {},
          "execution_count": 3
        },
        {
          "output_type": "display_data",
          "data": {
            "text/plain": [
              "<Figure size 864x720 with 2 Axes>"
            ],
            "image/png": "[encoded data removed]"
          },
          "metadata": {
            "needs_background": "light"
          }
        }
      ]
    },
    {
      "cell_type": "code",
      "source": [
        "#箱形圖，查看是否有數據離散程度\n",
        "plt.figure(figsize = (20, 8))\n",
        "sns.boxplot(data = df_train, width = 0.8)\n",
        "plt.show()"
      ],
      "metadata": {
        "colab": {
          "base_uri": "https://localhost:8080/",
          "height": 307
        },
        "id": "-8knwuHYYbFa",
        "outputId": "73792181-2af3-4a3e-f8fb-e71d835d8414"
      },
      "execution_count": null,
      "outputs": [
        {
          "output_type": "display_data",
          "data": {
            "text/plain": [
              "<Figure size 1440x576 with 1 Axes>"
            ],
            "image/png": "[encoded data removed]"
          },
          "metadata": {
            "needs_background": "light"
          }
        }
      ]
    },
    {
      "cell_type": "code",
      "source": [
        "#長條對比圖 性別\n",
        "import matplotlib.pyplot as plt\n",
        "import seaborn as sns\n",
        "selected_cols = ['Sex','Pclass','Embarked','SibSp','Parch']\n",
        "for i in selected_cols:\n",
        "  sns.countplot(x=i ,hue='Survived',data=df_train)\n",
        "  plt.show()"
      ],
      "metadata": {
        "colab": {
          "base_uri": "https://localhost:8080/",
          "height": 1000
        },
        "id": "ZD7hDFg2Mdhi",
        "outputId": "989a7bd9-a7e1-4665-c0ff-ee431a6c0620"
      },
      "execution_count": null,
      "outputs": [
        {
          "output_type": "display_data",
          "data": {
            "text/plain": [
              "<Figure size 432x288 with 1 Axes>"
            ],
            "image/png": "[encoded data removed]"
          },
          "metadata": {
            "needs_background": "light"
          }
        },
        {
          "output_type": "display_data",
          "data": {
            "text/plain": [
              "<Figure size 432x288 with 1 Axes>"
            ],
            "image/png": "[encoded data removed]"
          },
          "metadata": {
            "needs_background": "light"
          }
        },
        {
          "output_type": "display_data",
          "data": {
            "text/plain": [
              "<Figure size 432x288 with 1 Axes>"
            ],
            "image/png": "[encoded data removed]"
          },
          "metadata": {
            "needs_background": "light"
          }
        },
        {
          "output_type": "display_data",
          "data": {
            "text/plain": [
              "<Figure size 432x288 with 1 Axes>"
            ],
            "image/png": "[encoded data removed]"
          },
          "metadata": {
            "needs_background": "light"
          }
        },
        {
          "output_type": "display_data",
          "data": {
            "text/plain": [
              "<Figure size 432x288 with 1 Axes>"
            ],
            "image/png": "[encoded data removed]"
          },
          "metadata": {
            "needs_background": "light"
          }
        }
      ]
    },
    {
      "cell_type": "code",
      "source": [
        "#長條對比圖 Cabin\n",
        "import matplotlib.pyplot as plt\n",
        "import seaborn as sns\n",
        "\n",
        "sns.countplot(x='Cabin',hue='Survived',data=df_train)"
      ],
      "metadata": {
        "colab": {
          "base_uri": "https://localhost:8080/",
          "height": 297
        },
        "id": "Z2gX8EwkZYS3",
        "outputId": "7c46b345-cdd9-432f-a65b-99ff8ad675af"
      },
      "execution_count": null,
      "outputs": [
        {
          "output_type": "execute_result",
          "data": {
            "text/plain": [
              "<matplotlib.axes._subplots.AxesSubplot at 0x7feab3f98110>"
            ]
          },
          "metadata": {},
          "execution_count": 14
        },
        {
          "output_type": "display_data",
          "data": {
            "text/plain": [
              "<Figure size 432x288 with 1 Axes>"
            ],
            "image/png": "[encoded data removed]"
          },
          "metadata": {
            "needs_background": "light"
          }
        }
      ]
    },
    {
      "cell_type": "code",
      "source": [
        "#長條對比圖 Name\n",
        "import matplotlib.pyplot as plt\n",
        "import seaborn as sns\n",
        "\n",
        "sns.countplot(x='Name',hue='Survived',data=df_train)"
      ],
      "metadata": {
        "colab": {
          "base_uri": "https://localhost:8080/",
          "height": 297
        },
        "outputId": "945d60b2-0e0f-4481-c79c-160868cffc78",
        "id": "KkslJGoGcKId"
      },
      "execution_count": null,
      "outputs": [
        {
          "output_type": "execute_result",
          "data": {
            "text/plain": [
              "<matplotlib.axes._subplots.AxesSubplot at 0x7feab19a6fd0>"
            ]
          },
          "metadata": {},
          "execution_count": 15
        },
        {
          "output_type": "display_data",
          "data": {
            "text/plain": [
              "<Figure size 432x288 with 1 Axes>"
            ],
            "image/png": "[encoded data removed]"
          },
          "metadata": {
            "needs_background": "light"
          }
        }
      ]
    },
    {
      "cell_type": "markdown",
      "source": [
        "##4. 請進行「必要」的資料前處理操作，讓資料變成可以跑得動模型的格式即可。"
      ],
      "metadata": {
        "id": "IUMVuesRTMwG"
      }
    },
    {
      "cell_type": "code",
      "source": [
        "#初步清理資料\n",
        "\n",
        "#將性別轉成編碼\n",
        "sex_encoding = {\n",
        "    'male': 0,\n",
        "    'female': 1\n",
        "}\n",
        "df_train['Sex'] = df_train['Sex'].map(lambda d: sex_encoding[d])\n",
        "\n",
        "#將艙等獨熱編碼\n",
        "df_train = pd.get_dummies(df_train, columns = [\"Embarked\"])\n",
        "\n",
        "#Age填上平均值\n",
        "df_train[\"Age\"].fillna(value = df_train[\"Age\"].mean(), inplace = True)\n",
        "\n",
        "\n",
        "#刪除姓名、船票編號、客艙號\n",
        "try:\n",
        "  df_train = df_train.drop([\"Name\", \"Ticket\", \"Cabin\"],axis=1)\n",
        "  df_train = df_train.drop(\"Name\",axis=1)\n",
        "except:\n",
        "  print(\"已經修改完成\")\n"
      ],
      "metadata": {
        "id": "ZuFCi_QyV7TY"
      },
      "execution_count": null,
      "outputs": []
    },
    {
      "cell_type": "markdown",
      "source": [
        "##5. 最後請將資料接著執行下方範例，看看能否產出結果呢。"
      ],
      "metadata": {
        "id": "ilMWtM1TTM6C"
      }
    },
    {
      "cell_type": "code",
      "execution_count": null,
      "metadata": {
        "colab": {
          "base_uri": "https://localhost:8080/"
        },
        "id": "V-10ePxoJeQ-",
        "outputId": "ca1a9c9a-78af-4e57-90c2-b761304d1d9c"
      },
      "outputs": [
        {
          "output_type": "execute_result",
          "data": {
            "text/plain": [
              "array([0.78212291, 0.78651685, 0.78089888, 0.76966292, 0.81460674])"
            ]
          },
          "metadata": {},
          "execution_count": 47
        }
      ],
      "source": [
        "columns_X = set(df_train.columns) - {'Survived'}\n",
        "columns_y = ['Survived']\n",
        "\n",
        "train_X = df_train[columns_X]\n",
        "train_y = df_train[columns_y]\n",
        "\n",
        "from sklearn.linear_model import LogisticRegression\n",
        "from sklearn.model_selection import cross_val_score\n",
        "\n",
        "log = LogisticRegression(random_state=0, max_iter=3000)\n",
        "scores = cross_val_score(log, train_X, train_y.values.ravel(),cv=5,scoring='accuracy')\n",
        "scores\n",
        "#random_state：隨機數種子，int類型，可選參數，默認爲無，僅在正則化優化算法爲sag,liblinear時有用。\n",
        "#max_iter：算法收斂最大迭代次數，int類型，默認爲10。僅在正則化優化算法爲newton-cg, sag和lbfgs纔有用，算法收斂的最大迭代次數。/"
      ]
    },
    {
      "cell_type": "markdown",
      "source": [
        "#Day03 鐵達尼號存活預測 - 運用資料與特徵優化分析"
      ],
      "metadata": {
        "id": "nhZcthdoQpK8"
      }
    },
    {
      "cell_type": "markdown",
      "source": [
        "##1. 延續昨天的觀察，欄位中與「是否生存欄位」找出關係比較大的欄位有哪些？你是如何定義「關係大」的呢？\n",
        "\n",
        "（Hint: 可以利用視覺化圖表、 correlation、feature importance 等方法）"
      ],
      "metadata": {
        "id": "T7DX4-n-Q2N4"
      }
    },
    {
      "cell_type": "code",
      "source": [
        "#關係係數比較高，影響比重就比較大\n"
      ],
      "metadata": {
        "id": "Lid9Wl9tKvUJ"
      },
      "execution_count": null,
      "outputs": []
    },
    {
      "cell_type": "code",
      "source": [
        "#相關係數熱圖 \n",
        "import matplotlib.pyplot as plt\n",
        "import seaborn as sns\n",
        "\n",
        "corr = df_train.corr()\n",
        "cmap = sns.diverging_palette( 220 , 10 , as_cmap = True )\n",
        "sns.heatmap(\n",
        "        corr, \n",
        "        cmap = cmap,\n",
        "        square=True, \n",
        "        cbar_kws={ 'shrink' : .9 }, \n",
        "        ax = plt.subplots( figsize =( 12 , 10 ) )[1],\n",
        "        annot = True, \n",
        "        annot_kws = { 'fontsize' : 12 }\n",
        ")"
      ],
      "metadata": {
        "colab": {
          "base_uri": "https://localhost:8080/",
          "height": 656
        },
        "id": "F34S_UhfKu5K",
        "outputId": "bb11edc9-1f1b-4505-e69a-9aa2d93fa43b"
      },
      "execution_count": null,
      "outputs": [
        {
          "output_type": "execute_result",
          "data": {
            "text/plain": [
              "<matplotlib.axes._subplots.AxesSubplot at 0x7feaacdcbfd0>"
            ]
          },
          "metadata": {},
          "execution_count": 55
        },
        {
          "output_type": "display_data",
          "data": {
            "text/plain": [
              "<Figure size 864x720 with 2 Axes>"
            ],
            "image/png": "[encoded data removed]"
          },
          "metadata": {
            "needs_background": "light"
          }
        }
      ]
    },
    {
      "cell_type": "code",
      "source": [
        "corr[\"Survived\"]"
      ],
      "metadata": {
        "colab": {
          "base_uri": "https://localhost:8080/"
        },
        "id": "utkr-EBIL5SH",
        "outputId": "d95143c0-2b85-41ef-c3eb-bb28c4849b38"
      },
      "execution_count": null,
      "outputs": [
        {
          "output_type": "execute_result",
          "data": {
            "text/plain": [
              "PassengerId   -0.005007\n",
              "Survived       1.000000\n",
              "Pclass        -0.338481\n",
              "Sex            0.543351\n",
              "Age           -0.064910\n",
              "SibSp         -0.035322\n",
              "Parch          0.081629\n",
              "Fare           0.257307\n",
              "Embarked_C     0.168240\n",
              "Embarked_Q     0.003650\n",
              "Embarked_S    -0.155660\n",
              "Family_nums    0.016639\n",
              "Name: Survived, dtype: float64"
            ]
          },
          "metadata": {},
          "execution_count": 56
        }
      ]
    },
    {
      "cell_type": "markdown",
      "source": [
        "![截圖 2022-05-11 下午8.59.27.png](data:image/png;base64,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)"
      ],
      "metadata": {
        "id": "aYrVhdc-M7HD"
      }
    },
    {
      "cell_type": "code",
      "source": [
        "\"\"\"\n",
        "PassengerId   -0.005007\n",
        "Pclass        -0.338481\n",
        "Sex            0.543351\n",
        "Age           -0.077221\n",
        "SibSp         -0.035322\n",
        "Parch          0.081629\n",
        "Fare           0.257307\n",
        "Embarked_C     0.168240\n",
        "Embarked_Q     0.003650\n",
        "Embarked_S    -0.155660\n",
        "\"\"\"\n",
        "#Pclass Sex Fare 和Embarked 在哪登船，影響都比較顯著，至少超過0.1，且sex超過0.5，是其中最顯著的。"
      ],
      "metadata": {
        "colab": {
          "base_uri": "https://localhost:8080/",
          "height": 53
        },
        "id": "XmJ71jFFLtHq",
        "outputId": "7cad0f95-fd88-40b5-d139-115f9dcf3a26"
      },
      "execution_count": null,
      "outputs": [
        {
          "output_type": "execute_result",
          "data": {
            "text/plain": [
              "'\\nPassengerId   -0.005007\\nPclass        -0.338481\\nSex            0.543351\\nAge           -0.077221\\nSibSp         -0.035322\\nParch          0.081629\\nFare           0.257307\\nEmbarked_C     0.168240\\nEmbarked_Q     0.003650\\nEmbarked_S    -0.155660\\n'"
            ],
            "application/vnd.google.colaboratory.intrinsic+json": {
              "type": "string"
            }
          },
          "metadata": {},
          "execution_count": 57
        }
      ]
    },
    {
      "cell_type": "code",
      "source": [
        "import matplotlib.gridspec as gridspec\n",
        "selected_cols = ['Sex','Pclass','Embarked','SibSp','Parch']\n",
        "plt.figure( figsize=(10,len(selected_cols)*5) )\n",
        "gs = gridspec.GridSpec(len(selected_cols),1)    \n",
        "for i, col in enumerate( df_train[selected_cols] ) :        \n",
        "    ax = plt.subplot( gs[i] )\n",
        "    sns.countplot( df_train[col], hue=df_train.Survived, palette=['lightcoral','skyblue'] )\n",
        "    ax.set_yticklabels([])\n",
        "    ax.set_ylabel( 'Counts' )\n",
        "    ax.legend( loc=1 )   # upper right:1 ; upper left:2\n",
        "    for p in ax.patches:\n",
        "        ax.annotate( '{:,}'.format(p.get_height()), (p.get_x(), p.get_height()+1.5) )\n",
        "plt.show()"
      ],
      "metadata": {
        "colab": {
          "base_uri": "https://localhost:8080/",
          "height": 411
        },
        "id": "s8gPufMdfql7",
        "outputId": "9ce266ae-777f-4a85-a451-b768f4a1b2d7"
      },
      "execution_count": null,
      "outputs": [
        {
          "output_type": "error",
          "ename": "KeyError",
          "evalue": "ignored",
          "traceback": [
            "\u001b[0;31m---------------------------------------------------------------------------\u001b[0m",
            "\u001b[0;31mKeyError\u001b[0m                                  Traceback (most recent call last)",
            "\u001b[0;32m<ipython-input-58-c29a0cf8878f>\u001b[0m in \u001b[0;36m<module>\u001b[0;34m()\u001b[0m\n\u001b[1;32m      3\u001b[0m \u001b[0mplt\u001b[0m\u001b[0;34m.\u001b[0m\u001b[0mfigure\u001b[0m\u001b[0;34m(\u001b[0m \u001b[0mfigsize\u001b[0m\u001b[0;34m=\u001b[0m\u001b[0;34m(\u001b[0m\u001b[0;36m10\u001b[0m\u001b[0;34m,\u001b[0m\u001b[0mlen\u001b[0m\u001b[0;34m(\u001b[0m\u001b[0mselected_cols\u001b[0m\u001b[0;34m)\u001b[0m\u001b[0;34m*\u001b[0m\u001b[0;36m5\u001b[0m\u001b[0;34m)\u001b[0m \u001b[0;34m)\u001b[0m\u001b[0;34m\u001b[0m\u001b[0;34m\u001b[0m\u001b[0m\n\u001b[1;32m      4\u001b[0m \u001b[0mgs\u001b[0m \u001b[0;34m=\u001b[0m \u001b[0mgridspec\u001b[0m\u001b[0;34m.\u001b[0m\u001b[0mGridSpec\u001b[0m\u001b[0;34m(\u001b[0m\u001b[0mlen\u001b[0m\u001b[0;34m(\u001b[0m\u001b[0mselected_cols\u001b[0m\u001b[0;34m)\u001b[0m\u001b[0;34m,\u001b[0m\u001b[0;36m1\u001b[0m\u001b[0;34m)\u001b[0m\u001b[0;34m\u001b[0m\u001b[0;34m\u001b[0m\u001b[0m\n\u001b[0;32m----> 5\u001b[0;31m \u001b[0;32mfor\u001b[0m \u001b[0mi\u001b[0m\u001b[0;34m,\u001b[0m \u001b[0mcol\u001b[0m \u001b[0;32min\u001b[0m \u001b[0menumerate\u001b[0m\u001b[0;34m(\u001b[0m \u001b[0mdf_train\u001b[0m\u001b[0;34m[\u001b[0m\u001b[0mselected_cols\u001b[0m\u001b[0;34m]\u001b[0m \u001b[0;34m)\u001b[0m \u001b[0;34m:\u001b[0m\u001b[0;34m\u001b[0m\u001b[0;34m\u001b[0m\u001b[0m\n\u001b[0m\u001b[1;32m      6\u001b[0m     \u001b[0max\u001b[0m \u001b[0;34m=\u001b[0m \u001b[0mplt\u001b[0m\u001b[0;34m.\u001b[0m\u001b[0msubplot\u001b[0m\u001b[0;34m(\u001b[0m \u001b[0mgs\u001b[0m\u001b[0;34m[\u001b[0m\u001b[0mi\u001b[0m\u001b[0;34m]\u001b[0m \u001b[0;34m)\u001b[0m\u001b[0;34m\u001b[0m\u001b[0;34m\u001b[0m\u001b[0m\n\u001b[1;32m      7\u001b[0m     \u001b[0msns\u001b[0m\u001b[0;34m.\u001b[0m\u001b[0mcountplot\u001b[0m\u001b[0;34m(\u001b[0m \u001b[0mdf_train\u001b[0m\u001b[0;34m[\u001b[0m\u001b[0mcol\u001b[0m\u001b[0;34m]\u001b[0m\u001b[0;34m,\u001b[0m \u001b[0mhue\u001b[0m\u001b[0;34m=\u001b[0m\u001b[0mdf_train\u001b[0m\u001b[0;34m.\u001b[0m\u001b[0mSurvived\u001b[0m\u001b[0;34m,\u001b[0m \u001b[0mpalette\u001b[0m\u001b[0;34m=\u001b[0m\u001b[0;34m[\u001b[0m\u001b[0;34m'lightcoral'\u001b[0m\u001b[0;34m,\u001b[0m\u001b[0;34m'skyblue'\u001b[0m\u001b[0;34m]\u001b[0m \u001b[0;34m)\u001b[0m\u001b[0;34m\u001b[0m\u001b[0;34m\u001b[0m\u001b[0m\n",
            "\u001b[0;32m/usr/local/lib/python3.7/dist-packages/pandas/core/frame.py\u001b[0m in \u001b[0;36m__getitem__\u001b[0;34m(self, key)\u001b[0m\n\u001b[1;32m   3462\u001b[0m             \u001b[0;32mif\u001b[0m \u001b[0mis_iterator\u001b[0m\u001b[0;34m(\u001b[0m\u001b[0mkey\u001b[0m\u001b[0;34m)\u001b[0m\u001b[0;34m:\u001b[0m\u001b[0;34m\u001b[0m\u001b[0;34m\u001b[0m\u001b[0m\n\u001b[1;32m   3463\u001b[0m                 \u001b[0mkey\u001b[0m \u001b[0;34m=\u001b[0m \u001b[0mlist\u001b[0m\u001b[0;34m(\u001b[0m\u001b[0mkey\u001b[0m\u001b[0;34m)\u001b[0m\u001b[0;34m\u001b[0m\u001b[0;34m\u001b[0m\u001b[0m\n\u001b[0;32m-> 3464\u001b[0;31m             \u001b[0mindexer\u001b[0m \u001b[0;34m=\u001b[0m \u001b[0mself\u001b[0m\u001b[0;34m.\u001b[0m\u001b[0mloc\u001b[0m\u001b[0;34m.\u001b[0m\u001b[0m_get_listlike_indexer\u001b[0m\u001b[0;34m(\u001b[0m\u001b[0mkey\u001b[0m\u001b[0;34m,\u001b[0m \u001b[0maxis\u001b[0m\u001b[0;34m=\u001b[0m\u001b[0;36m1\u001b[0m\u001b[0;34m)\u001b[0m\u001b[0;34m[\u001b[0m\u001b[0;36m1\u001b[0m\u001b[0;34m]\u001b[0m\u001b[0;34m\u001b[0m\u001b[0;34m\u001b[0m\u001b[0m\n\u001b[0m\u001b[1;32m   3465\u001b[0m \u001b[0;34m\u001b[0m\u001b[0m\n\u001b[1;32m   3466\u001b[0m         \u001b[0;31m# take() does not accept boolean indexers\u001b[0m\u001b[0;34m\u001b[0m\u001b[0;34m\u001b[0m\u001b[0;34m\u001b[0m\u001b[0m\n",
            "\u001b[0;32m/usr/local/lib/python3.7/dist-packages/pandas/core/indexing.py\u001b[0m in \u001b[0;36m_get_listlike_indexer\u001b[0;34m(self, key, axis)\u001b[0m\n\u001b[1;32m   1312\u001b[0m             \u001b[0mkeyarr\u001b[0m\u001b[0;34m,\u001b[0m \u001b[0mindexer\u001b[0m\u001b[0;34m,\u001b[0m \u001b[0mnew_indexer\u001b[0m \u001b[0;34m=\u001b[0m \u001b[0max\u001b[0m\u001b[0;34m.\u001b[0m\u001b[0m_reindex_non_unique\u001b[0m\u001b[0;34m(\u001b[0m\u001b[0mkeyarr\u001b[0m\u001b[0;34m)\u001b[0m\u001b[0;34m\u001b[0m\u001b[0;34m\u001b[0m\u001b[0m\n\u001b[1;32m   1313\u001b[0m \u001b[0;34m\u001b[0m\u001b[0m\n\u001b[0;32m-> 1314\u001b[0;31m         \u001b[0mself\u001b[0m\u001b[0;34m.\u001b[0m\u001b[0m_validate_read_indexer\u001b[0m\u001b[0;34m(\u001b[0m\u001b[0mkeyarr\u001b[0m\u001b[0;34m,\u001b[0m \u001b[0mindexer\u001b[0m\u001b[0;34m,\u001b[0m \u001b[0maxis\u001b[0m\u001b[0;34m)\u001b[0m\u001b[0;34m\u001b[0m\u001b[0;34m\u001b[0m\u001b[0m\n\u001b[0m\u001b[1;32m   1315\u001b[0m \u001b[0;34m\u001b[0m\u001b[0m\n\u001b[1;32m   1316\u001b[0m         if needs_i8_conversion(ax.dtype) or isinstance(\n",
            "\u001b[0;32m/usr/local/lib/python3.7/dist-packages/pandas/core/indexing.py\u001b[0m in \u001b[0;36m_validate_read_indexer\u001b[0;34m(self, key, indexer, axis)\u001b[0m\n\u001b[1;32m   1375\u001b[0m \u001b[0;34m\u001b[0m\u001b[0m\n\u001b[1;32m   1376\u001b[0m             \u001b[0mnot_found\u001b[0m \u001b[0;34m=\u001b[0m \u001b[0mlist\u001b[0m\u001b[0;34m(\u001b[0m\u001b[0mensure_index\u001b[0m\u001b[0;34m(\u001b[0m\u001b[0mkey\u001b[0m\u001b[0;34m)\u001b[0m\u001b[0;34m[\u001b[0m\u001b[0mmissing_mask\u001b[0m\u001b[0;34m.\u001b[0m\u001b[0mnonzero\u001b[0m\u001b[0;34m(\u001b[0m\u001b[0;34m)\u001b[0m\u001b[0;34m[\u001b[0m\u001b[0;36m0\u001b[0m\u001b[0;34m]\u001b[0m\u001b[0;34m]\u001b[0m\u001b[0;34m.\u001b[0m\u001b[0munique\u001b[0m\u001b[0;34m(\u001b[0m\u001b[0;34m)\u001b[0m\u001b[0;34m)\u001b[0m\u001b[0;34m\u001b[0m\u001b[0;34m\u001b[0m\u001b[0m\n\u001b[0;32m-> 1377\u001b[0;31m             \u001b[0;32mraise\u001b[0m \u001b[0mKeyError\u001b[0m\u001b[0;34m(\u001b[0m\u001b[0;34mf\"{not_found} not in index\"\u001b[0m\u001b[0;34m)\u001b[0m\u001b[0;34m\u001b[0m\u001b[0;34m\u001b[0m\u001b[0m\n\u001b[0m\u001b[1;32m   1378\u001b[0m \u001b[0;34m\u001b[0m\u001b[0m\n\u001b[1;32m   1379\u001b[0m \u001b[0;34m\u001b[0m\u001b[0m\n",
            "\u001b[0;31mKeyError\u001b[0m: \"['Embarked'] not in index\""
          ]
        },
        {
          "output_type": "display_data",
          "data": {
            "text/plain": [
              "<Figure size 720x1800 with 0 Axes>"
            ]
          },
          "metadata": {}
        }
      ]
    },
    {
      "cell_type": "markdown",
      "source": [
        "##2. 請問資料中有哪些「欄位」你覺得是多餘的，在分析過程中應該被排除的呢？為什麼？"
      ],
      "metadata": {
        "id": "AX3-X1KlQ2at"
      }
    },
    {
      "cell_type": "markdown",
      "source": [
        "\n",
        "本來覺得有很多東西可以移除，但在看了文章後，覺得都好重要qq\n",
        "\n",
        "但我基本上還是先移除名字、客艙號、船票編號"
      ],
      "metadata": {
        "id": "wZE1GI46NShJ"
      }
    },
    {
      "cell_type": "markdown",
      "source": [
        "##3. 請你針對「有缺失值」的幾個欄位，嘗試比較不同的處理策略（例如用常數、中位數、平均數填補）。"
      ],
      "metadata": {
        "id": "NYkz2BrxQ3_F"
      }
    },
    {
      "cell_type": "code",
      "source": [
        "#Age填上中位數\n",
        "df_train[\"Age\"].fillna(value = df_train[\"Age\"].median() , inplace = True)\n",
        "\n",
        "#Age填上平均值\n",
        "# df_train[\"Age\"].fillna(value = df_train[\"Age\"].mean(), inplace = True)"
      ],
      "metadata": {
        "id": "3CeEffR5icCG"
      },
      "execution_count": null,
      "outputs": []
    },
    {
      "cell_type": "markdown",
      "source": [
        "##4. 請你針對「非數值型」的幾個欄位，嘗試比較不同的處理策略（例如用 LabelEncoder 或 OneHotEncoder）。"
      ],
      "metadata": {
        "id": "wx6h93n7Q4Ej"
      }
    },
    {
      "cell_type": "code",
      "source": [
        "#性別進行編碼\n",
        "sex_encoding = {\n",
        "    'male': 0,\n",
        "    'female': 1\n",
        "}\n",
        "df_train['Sex'] = df_train['Sex'].map(lambda d: sex_encoding[d])\n",
        "\n",
        "#將登船地點獨熱編碼\n",
        "df_train = pd.get_dummies(df_train, columns = [\"Embarked\"])"
      ],
      "metadata": {
        "id": "jEE8zq-Biitj"
      },
      "execution_count": null,
      "outputs": []
    },
    {
      "cell_type": "markdown",
      "source": [
        "##5. 請你嘗試不同的特徵工程手法，產生可以幫助分析結果的新變數。"
      ],
      "metadata": {
        "id": "E-lZXsdMQ4V4"
      }
    },
    {
      "cell_type": "code",
      "source": [
        "#加入Family_nums欄位（為Parch + SibSp)\n",
        "df_train[\"Family_nums\"] = df_train[\"Parch\"] + df_train[\"SibSp\"]"
      ],
      "metadata": {
        "id": "UPBBeu-rRHmP"
      },
      "execution_count": null,
      "outputs": []
    },
    {
      "cell_type": "code",
      "source": [
        "#刪除姓名、船票編號、客艙號\n",
        "try:\n",
        "  df_train = df_train.drop([\"Name\", \"Ticket\", \"Cabin\"],axis=1)\n",
        "  df_train = df_train.drop(\"Name\",axis=1)\n",
        "except:\n",
        "  print(\"已經修改完成\")\n",
        "df_train"
      ],
      "metadata": {
        "id": "l7cUfGTljtmI"
      },
      "execution_count": null,
      "outputs": []
    },
    {
      "cell_type": "markdown",
      "source": [
        "##6.最後，請將資料接著執行下方範例，產生新的結果之後並且截圖且存成一次新的 Commit。"
      ],
      "metadata": {
        "id": "w1o8wlf-RKR3"
      }
    },
    {
      "cell_type": "code",
      "source": [
        "columns_X = set(df_train.columns) - {'Survived'}\n",
        "columns_y = ['Survived']\n",
        "\n",
        "train_X = df_train[columns_X]\n",
        "train_y = df_train[columns_y]\n",
        "\n",
        "from sklearn.linear_model import LogisticRegression\n",
        "from sklearn.model_selection import cross_val_score\n",
        "\n",
        "log = LogisticRegression(random_state=0, max_iter=3000)\n",
        "scores = cross_val_score(log, train_X, train_y.values.ravel(),cv=5,scoring='accuracy')\n",
        "scores"
      ],
      "metadata": {
        "id": "yewu3hykRNF3",
        "colab": {
          "base_uri": "https://localhost:8080/"
        },
        "outputId": "fcca0e27-72b8-4561-c332-0a964ce08628"
      },
      "execution_count": null,
      "outputs": [
        {
          "output_type": "execute_result",
          "data": {
            "text/plain": [
              "array([0.83240223, 0.81460674, 0.79775281, 0.83146067, 0.85393258])"
            ]
          },
          "metadata": {},
          "execution_count": 237
        }
      ]
    },
    {
      "cell_type": "markdown",
      "source": [
        "#Day04 專題實作 #01：鐵達尼號存活預測 - 模型優化與比較\n"
      ],
      "metadata": {
        "id": "PW-fFvkJaYJV"
      }
    },
    {
      "cell_type": "markdown",
      "source": [
        "##清理數據"
      ],
      "metadata": {
        "id": "IkfRcVSm3AfS"
      }
    },
    {
      "cell_type": "code",
      "source": [
        "#分出姓氏\n",
        "def get_Surname(df):\n",
        "    df['Surname'] = df.Name.str.split(', ', expand=True)[0]\n",
        "\n",
        "##分出Title 並將Title分成 Officer Royalty Mr Mrs Miss Master\n",
        "\n",
        "def get_titles(df):\n",
        "    df['Title'] = df.Name.str.split(', ', expand=True)[1]\n",
        "    df['Title'] = df.Title.str.split('.', expand=True)[0]\n",
        "\n",
        "    Title_Dictionary = {\n",
        "    \"Capt\": \"Officer\",\n",
        "    \"Col\": \"Officer\",\n",
        "    \"Major\": \"Officer\",\n",
        "    \"Dr\" : \"Officer\",\n",
        "    \"Rev\": \"Officer\",\n",
        "    \"Jonkheer\" : \"Royalty\",\n",
        "    \"Don\" : \"Royalty\",\n",
        "    \"Sir\" : \"Royalty\",\n",
        "    \"Lady\" : \"Royalty\",\n",
        "    \"the Countess\":\"Royalty\",\n",
        "    \"Mme\": \"Mrs\",\n",
        "    \"Mlle\": \"Miss\",\n",
        "    \"Ms\": \"Mrs\",\n",
        "    \"Mr\" : \"Mr\",\n",
        "    \"Mrs\" : \"Mrs\",\n",
        "    \"Miss\" : \"Miss\",\n",
        "    \"Master\" : \"Master\"\n",
        "}\n",
        "    df['Title'] = df['Name'].map(lambda name:name.split(',')[1].split('.')[0].strip())\n",
        "    df['Title'] = df.Title.map(Title_Dictionary)\n",
        "\n",
        "#性別進行編碼\n",
        "def get_sex(df):\n",
        "    sex_encoding = {\n",
        "        'male': 0,\n",
        "        'female': 1\n",
        "    }\n",
        "    df['Sex'] = df['Sex'].map(lambda d: sex_encoding[d])\n",
        "\n",
        "#加入Family_size欄位（為Parch + SibSp+1)，並區分家庭大小\n",
        "def get_family_size(df):\n",
        "    df[\"Family_size\"] = df[\"Parch\"] + df[\"SibSp\"] +1\n",
        "    df['Single'] = df['Family_size'].map(lambda s: 1 if s == 1 else 0)\n",
        "    df['Small'] = df['Family_size'].map(lambda s: 1 if 2 <= s <= 4 else 0)\n",
        "    df['Large'] = df['Family_size'].map(lambda s: 1 if 5 <= s else 0)\n",
        "\n",
        "#cabin拉出是否有艙號\n",
        "def get_cabin(df):\n",
        "    df['Cabin'] = df['Cabin'].apply( lambda x: 1 if not pd.isnull(x) else 0 )\n",
        "    df['Cabin'].unique()\n",
        "\n",
        "#處理遺失值\n",
        "def deal_num(df):\n",
        "    df['Age'].fillna(df.groupby(['Sex', \"Title\"])[\"Age\"].transform('median'),inplace=True)\n",
        "    df[\"Embarked\"].fillna(\"S\", inplace=True)"
      ],
      "metadata": {
        "id": "sNdexNlFa4Cv"
      },
      "execution_count": null,
      "outputs": []
    },
    {
      "cell_type": "code",
      "source": [
        "def deal_with_data(df):\n",
        "    get_sex(df)\n",
        "    get_family_size(df)\n",
        "    get_titles(df)\n",
        "    get_Surname(df)\n",
        "    get_cabin(df)\n",
        "    deal_num(df)\n",
        "    df = pd.get_dummies(df, columns = [\"Embarked\"])\n",
        "    df = pd.get_dummies(df, columns = [\"Title\"])\n",
        "    df = pd.get_dummies(df, columns = [\"Surname\"])\n",
        "    df = df.drop([\"Name\", \"Ticket\", \"Family_size\",\"SibSp\", \"Parch\"],axis=1)\n",
        "    return df"
      ],
      "metadata": {
        "id": "oXpAx0MIntUo"
      },
      "execution_count": null,
      "outputs": []
    },
    {
      "cell_type": "code",
      "source": [
        "df_train = deal_with_data(df_train)"
      ],
      "metadata": {
        "id": "tE4pcZaf24y4"
      },
      "execution_count": null,
      "outputs": []
    },
    {
      "cell_type": "code",
      "source": [
        "df_train[df_train.isnull().values==True]"
      ],
      "metadata": {
        "id": "MS5BbS8b3j6m",
        "colab": {
          "base_uri": "https://localhost:8080/",
          "height": 160
        },
        "outputId": "32479145-aca4-47fc-db7a-88dd602b69ab"
      },
      "execution_count": null,
      "outputs": [
        {
          "output_type": "execute_result",
          "data": {
            "text/plain": [
              "Empty DataFrame\n",
              "Columns: [PassengerId, Survived, Pclass, Sex, Age, Fare, Cabin, Single, Small, Large, Embarked_C, Embarked_Q, Embarked_S, Title_Master, Title_Miss, Title_Mr, Title_Mrs, Title_Officer, Title_Royalty, Surname_Abbing, Surname_Abbott, Surname_Abelson, Surname_Adahl, Surname_Adams, Surname_Ahlin, Surname_Aks, Surname_Albimona, Surname_Alexander, Surname_Alhomaki, Surname_Ali, Surname_Allen, Surname_Allison, Surname_Allum, Surname_Andersen-Jensen, Surname_Anderson, Surname_Andersson, Surname_Andreasson, Surname_Andrew, Surname_Andrews, Surname_Angle, Surname_Appleton, Surname_Arnold-Franchi, Surname_Artagaveytia, Surname_Asim, Surname_Asplund, Surname_Astor, Surname_Attalah, Surname_Aubart, Surname_Augustsson, Surname_Ayoub, Surname_Backstrom, Surname_Baclini, Surname_Badt, Surname_Bailey, Surname_Balkic, Surname_Ball, Surname_Banfield, Surname_Barah, Surname_Barbara, Surname_Barber, Surname_Barkworth, Surname_Barton, Surname_Bateman, Surname_Baumann, Surname_Baxter, Surname_Bazzani, Surname_Beane, Surname_Beavan, Surname_Becker, Surname_Beckwith, Surname_Beesley, Surname_Behr, Surname_Bengtsson, Surname_Berglund, Surname_Berriman, Surname_Betros, Surname_Bidois, Surname_Bing, Surname_Birkeland, Surname_Bishop, Surname_Bissette, Surname_Bjornstrom-Steffansson, Surname_Blackwell, Surname_Blank, Surname_Bonnell, Surname_Bostandyeff, Surname_Boulos, Surname_Bourke, Surname_Bowen, Surname_Bowerman, Surname_Bracken, Surname_Bradley, Surname_Braund, Surname_Brewe, Surname_Brocklebank, Surname_Brown, Surname_Bryhl, Surname_Burke, Surname_Burns, Surname_Buss, ...]\n",
              "Index: []\n",
              "\n",
              "[0 rows x 686 columns]"
            ],
            "text/html": [
              "\n",
              "  <div id=\"df-2ee01d8d-d8c1-406f-b559-350df287c176\">\n",
              "    <div class=\"colab-df-container\">\n",
              "      <div>\n",
              "<style scoped>\n",
              "    .dataframe tbody tr th:only-of-type {\n",
              "        vertical-align: middle;\n",
              "    }\n",
              "\n",
              "    .dataframe tbody tr th {\n",
              "        vertical-align: top;\n",
              "    }\n",
              "\n",
              "    .dataframe thead th {\n",
              "        text-align: right;\n",
              "    }\n",
              "</style>\n",
              "<table border=\"1\" class=\"dataframe\">\n",
              "  <thead>\n",
              "    <tr style=\"text-align: right;\">\n",
              "      <th></th>\n",
              "      <th>PassengerId</th>\n",
              "      <th>Survived</th>\n",
              "      <th>Pclass</th>\n",
              "      <th>Sex</th>\n",
              "      <th>Age</th>\n",
              "      <th>Fare</th>\n",
              "      <th>Cabin</th>\n",
              "      <th>Single</th>\n",
              "      <th>Small</th>\n",
              "      <th>Large</th>\n",
              "      <th>...</th>\n",
              "      <th>Surname_Yousseff</th>\n",
              "      <th>Surname_Yrois</th>\n",
              "      <th>Surname_Zabour</th>\n",
              "      <th>Surname_Zimmerman</th>\n",
              "      <th>Surname_de Messemaeker</th>\n",
              "      <th>Surname_de Mulder</th>\n",
              "      <th>Surname_de Pelsmaeker</th>\n",
              "      <th>Surname_del Carlo</th>\n",
              "      <th>Surname_van Billiard</th>\n",
              "      <th>Surname_van Melkebeke</th>\n",
              "    </tr>\n",
              "  </thead>\n",
              "  <tbody>\n",
              "  </tbody>\n",
              "</table>\n",
              "<p>0 rows × 686 columns</p>\n",
              "</div>\n",
              "      <button class=\"colab-df-convert\" onclick=\"convertToInteractive('df-2ee01d8d-d8c1-406f-b559-350df287c176')\"\n",
              "              title=\"Convert this dataframe to an interactive table.\"\n",
              "              style=\"display:none;\">\n",
              "        \n",
              "  <svg xmlns=\"http://www.w3.org/2000/svg\" height=\"24px\"viewBox=\"0 0 24 24\"\n",
              "       width=\"24px\">\n",
              "    <path d=\"M0 0h24v24H0V0z\" fill=\"none\"/>\n",
              "    <path d=\"M18.56 5.44l.94 2.06.94-2.06 2.06-.94-2.06-.94-.94-2.06-.94 2.06-2.06.94zm-11 1L8.5 8.5l.94-2.06 2.06-.94-2.06-.94L8.5 2.5l-.94 2.06-2.06.94zm10 10l.94 2.06.94-2.06 2.06-.94-2.06-.94-.94-2.06-.94 2.06-2.06.94z\"/><path d=\"M17.41 7.96l-1.37-1.37c-.4-.4-.92-.59-1.43-.59-.52 0-1.04.2-1.43.59L10.3 9.45l-7.72 7.72c-.78.78-.78 2.05 0 2.83L4 21.41c.39.39.9.59 1.41.59.51 0 1.02-.2 1.41-.59l7.78-7.78 2.81-2.81c.8-.78.8-2.07 0-2.86zM5.41 20L4 18.59l7.72-7.72 1.47 1.35L5.41 20z\"/>\n",
              "  </svg>\n",
              "      </button>\n",
              "      \n",
              "  <style>\n",
              "    .colab-df-container {\n",
              "      display:flex;\n",
              "      flex-wrap:wrap;\n",
              "      gap: 12px;\n",
              "    }\n",
              "\n",
              "    .colab-df-convert {\n",
              "      background-color: #E8F0FE;\n",
              "      border: none;\n",
              "      border-radius: 50%;\n",
              "      cursor: pointer;\n",
              "      display: none;\n",
              "      fill: #1967D2;\n",
              "      height: 32px;\n",
              "      padding: 0 0 0 0;\n",
              "      width: 32px;\n",
              "    }\n",
              "\n",
              "    .colab-df-convert:hover {\n",
              "      background-color: #E2EBFA;\n",
              "      box-shadow: 0px 1px 2px rgba(60, 64, 67, 0.3), 0px 1px 3px 1px rgba(60, 64, 67, 0.15);\n",
              "      fill: #174EA6;\n",
              "    }\n",
              "\n",
              "    [theme=dark] .colab-df-convert {\n",
              "      background-color: #3B4455;\n",
              "      fill: #D2E3FC;\n",
              "    }\n",
              "\n",
              "    [theme=dark] .colab-df-convert:hover {\n",
              "      background-color: #434B5C;\n",
              "      box-shadow: 0px 1px 3px 1px rgba(0, 0, 0, 0.15);\n",
              "      filter: drop-shadow(0px 1px 2px rgba(0, 0, 0, 0.3));\n",
              "      fill: #FFFFFF;\n",
              "    }\n",
              "  </style>\n",
              "\n",
              "      <script>\n",
              "        const buttonEl =\n",
              "          document.querySelector('#df-2ee01d8d-d8c1-406f-b559-350df287c176 button.colab-df-convert');\n",
              "        buttonEl.style.display =\n",
              "          google.colab.kernel.accessAllowed ? 'block' : 'none';\n",
              "\n",
              "        async function convertToInteractive(key) {\n",
              "          const element = document.querySelector('#df-2ee01d8d-d8c1-406f-b559-350df287c176');\n",
              "          const dataTable =\n",
              "            await google.colab.kernel.invokeFunction('convertToInteractive',\n",
              "                                                     [key], {});\n",
              "          if (!dataTable) return;\n",
              "\n",
              "          const docLinkHtml = 'Like what you see? Visit the ' +\n",
              "            '<a target=\"_blank\" href=https://colab.research.google.com/notebooks/data_table.ipynb>data table notebook</a>'\n",
              "            + ' to learn more about interactive tables.';\n",
              "          element.innerHTML = '';\n",
              "          dataTable['output_type'] = 'display_data';\n",
              "          await google.colab.output.renderOutput(dataTable, element);\n",
              "          const docLink = document.createElement('div');\n",
              "          docLink.innerHTML = docLinkHtml;\n",
              "          element.appendChild(docLink);\n",
              "        }\n",
              "      </script>\n",
              "    </div>\n",
              "  </div>\n",
              "  "
            ]
          },
          "metadata": {},
          "execution_count": 61
        }
      ]
    },
    {
      "cell_type": "code",
      "source": [
        "#將train的data做切割，分成x和y\n",
        "columns_X = set(df_train.columns) - {'Survived'}\n",
        "columns_y = ['Survived']\n",
        "\n",
        "train_X = df_train[columns_X]\n",
        "train_y = df_train[columns_y]"
      ],
      "metadata": {
        "id": "8HHbG2IU_1G-"
      },
      "execution_count": null,
      "outputs": []
    },
    {
      "cell_type": "markdown",
      "source": [
        "##1. 請嘗試使用 scikit-learn 中「不同基本模型」，並且進行比較結果？"
      ],
      "metadata": {
        "id": "4vrYeOsgacWh"
      }
    },
    {
      "cell_type": "code",
      "source": [
        "from sklearn.pipeline import make_pipeline\n",
        "from sklearn.model_selection import StratifiedKFold\n",
        "from sklearn.model_selection import GridSearchCV\n",
        "from sklearn.model_selection import cross_val_score\n",
        "from sklearn.feature_selection import SelectKBest"
      ],
      "metadata": {
        "id": "_NB3VprM_byQ"
      },
      "execution_count": null,
      "outputs": []
    },
    {
      "cell_type": "code",
      "source": [
        "#將交叉驗證合併成函式reyurn mean()值\n",
        "def compute_score(clf, X, y, scoring='accuracy'):\n",
        "    xval = cross_val_score(clf, X, y, cv = 5, scoring=scoring)\n",
        "    return np.mean(xval)"
      ],
      "metadata": {
        "id": "kZqNhsI__lIZ"
      },
      "execution_count": null,
      "outputs": []
    },
    {
      "cell_type": "markdown",
      "source": [
        "###SelectFromModel 選擇較有用的特徵(使用決策樹）"
      ],
      "metadata": {
        "id": "nP4gKmrKJY9X"
      }
    },
    {
      "cell_type": "code",
      "source": [
        "#因特徵量巨大，運用隨機森林，從模型中選擇較有用的特徵\n",
        "\n",
        "from sklearn.feature_selection import SelectFromModel\n",
        "from sklearn.ensemble import RandomForestClassifier\n",
        "\n",
        "\n",
        "clf = RandomForestClassifier(n_estimators=50, max_features='sqrt')\n",
        "clf = clf.fit(train_X, train_y)\n",
        "features = pd.DataFrame()\n",
        "features['feature'] = train_X.columns\n",
        "features['importance'] = clf.feature_importances_\n",
        "features.sort_values(by=['importance'], ascending=True, inplace=True)\n",
        "features.set_index('feature', inplace=True)\n",
        "\n",
        "\n",
        "model = SelectFromModel(clf, prefit=True)\n",
        "train_reduced = model.transform(train_X)\n",
        "train_reduced"
      ],
      "metadata": {
        "colab": {
          "base_uri": "https://localhost:8080/",
          "height": 385
        },
        "id": "fFWP3cbgA1a8",
        "outputId": "234cbc8b-3fc4-478d-c4d1-2c5a3824dfde"
      },
      "execution_count": null,
      "outputs": [
        {
          "output_type": "error",
          "ename": "ValueError",
          "evalue": "ignored",
          "traceback": [
            "\u001b[0;31m---------------------------------------------------------------------------\u001b[0m",
            "\u001b[0;31mValueError\u001b[0m                                Traceback (most recent call last)",
            "\u001b[0;32m<ipython-input-161-b87b47d38d1e>\u001b[0m in \u001b[0;36m<module>\u001b[0;34m()\u001b[0m\n\u001b[1;32m      6\u001b[0m \u001b[0;34m\u001b[0m\u001b[0m\n\u001b[1;32m      7\u001b[0m \u001b[0mclf\u001b[0m \u001b[0;34m=\u001b[0m \u001b[0mRandomForestClassifier\u001b[0m\u001b[0;34m(\u001b[0m\u001b[0mn_estimators\u001b[0m\u001b[0;34m=\u001b[0m\u001b[0;36m50\u001b[0m\u001b[0;34m,\u001b[0m \u001b[0mmax_features\u001b[0m\u001b[0;34m=\u001b[0m\u001b[0;34m'sqrt'\u001b[0m\u001b[0;34m)\u001b[0m\u001b[0;34m\u001b[0m\u001b[0;34m\u001b[0m\u001b[0m\n\u001b[0;32m----> 8\u001b[0;31m \u001b[0mclf\u001b[0m \u001b[0;34m=\u001b[0m \u001b[0mclf\u001b[0m\u001b[0;34m.\u001b[0m\u001b[0mfit\u001b[0m\u001b[0;34m(\u001b[0m\u001b[0mtrain_X\u001b[0m\u001b[0;34m,\u001b[0m \u001b[0mtrain_y\u001b[0m\u001b[0;34m)\u001b[0m\u001b[0;34m\u001b[0m\u001b[0;34m\u001b[0m\u001b[0m\n\u001b[0m\u001b[1;32m      9\u001b[0m \u001b[0mfeatures\u001b[0m \u001b[0;34m=\u001b[0m \u001b[0mpd\u001b[0m\u001b[0;34m.\u001b[0m\u001b[0mDataFrame\u001b[0m\u001b[0;34m(\u001b[0m\u001b[0;34m)\u001b[0m\u001b[0;34m\u001b[0m\u001b[0;34m\u001b[0m\u001b[0m\n\u001b[1;32m     10\u001b[0m \u001b[0mfeatures\u001b[0m\u001b[0;34m[\u001b[0m\u001b[0;34m'feature'\u001b[0m\u001b[0;34m]\u001b[0m \u001b[0;34m=\u001b[0m \u001b[0mtrain_X\u001b[0m\u001b[0;34m.\u001b[0m\u001b[0mcolumns\u001b[0m\u001b[0;34m\u001b[0m\u001b[0;34m\u001b[0m\u001b[0m\n",
            "\u001b[0;32m/usr/local/lib/python3.7/dist-packages/sklearn/ensemble/_forest.py\u001b[0m in \u001b[0;36mfit\u001b[0;34m(self, X, y, sample_weight)\u001b[0m\n\u001b[1;32m    326\u001b[0m             \u001b[0;32mraise\u001b[0m \u001b[0mValueError\u001b[0m\u001b[0;34m(\u001b[0m\u001b[0;34m\"sparse multilabel-indicator for y is not supported.\"\u001b[0m\u001b[0;34m)\u001b[0m\u001b[0;34m\u001b[0m\u001b[0;34m\u001b[0m\u001b[0m\n\u001b[1;32m    327\u001b[0m         X, y = self._validate_data(\n\u001b[0;32m--> 328\u001b[0;31m             \u001b[0mX\u001b[0m\u001b[0;34m,\u001b[0m \u001b[0my\u001b[0m\u001b[0;34m,\u001b[0m \u001b[0mmulti_output\u001b[0m\u001b[0;34m=\u001b[0m\u001b[0;32mTrue\u001b[0m\u001b[0;34m,\u001b[0m \u001b[0maccept_sparse\u001b[0m\u001b[0;34m=\u001b[0m\u001b[0;34m\"csc\"\u001b[0m\u001b[0;34m,\u001b[0m \u001b[0mdtype\u001b[0m\u001b[0;34m=\u001b[0m\u001b[0mDTYPE\u001b[0m\u001b[0;34m\u001b[0m\u001b[0;34m\u001b[0m\u001b[0m\n\u001b[0m\u001b[1;32m    329\u001b[0m         )\n\u001b[1;32m    330\u001b[0m         \u001b[0;32mif\u001b[0m \u001b[0msample_weight\u001b[0m \u001b[0;32mis\u001b[0m \u001b[0;32mnot\u001b[0m \u001b[0;32mNone\u001b[0m\u001b[0;34m:\u001b[0m\u001b[0;34m\u001b[0m\u001b[0;34m\u001b[0m\u001b[0m\n",
            "\u001b[0;32m/usr/local/lib/python3.7/dist-packages/sklearn/base.py\u001b[0m in \u001b[0;36m_validate_data\u001b[0;34m(self, X, y, reset, validate_separately, **check_params)\u001b[0m\n\u001b[1;32m    579\u001b[0m                 \u001b[0my\u001b[0m \u001b[0;34m=\u001b[0m \u001b[0mcheck_array\u001b[0m\u001b[0;34m(\u001b[0m\u001b[0my\u001b[0m\u001b[0;34m,\u001b[0m \u001b[0;34m**\u001b[0m\u001b[0mcheck_y_params\u001b[0m\u001b[0;34m)\u001b[0m\u001b[0;34m\u001b[0m\u001b[0;34m\u001b[0m\u001b[0m\n\u001b[1;32m    580\u001b[0m             \u001b[0;32melse\u001b[0m\u001b[0;34m:\u001b[0m\u001b[0;34m\u001b[0m\u001b[0;34m\u001b[0m\u001b[0m\n\u001b[0;32m--> 581\u001b[0;31m                 \u001b[0mX\u001b[0m\u001b[0;34m,\u001b[0m \u001b[0my\u001b[0m \u001b[0;34m=\u001b[0m \u001b[0mcheck_X_y\u001b[0m\u001b[0;34m(\u001b[0m\u001b[0mX\u001b[0m\u001b[0;34m,\u001b[0m \u001b[0my\u001b[0m\u001b[0;34m,\u001b[0m \u001b[0;34m**\u001b[0m\u001b[0mcheck_params\u001b[0m\u001b[0;34m)\u001b[0m\u001b[0;34m\u001b[0m\u001b[0;34m\u001b[0m\u001b[0m\n\u001b[0m\u001b[1;32m    582\u001b[0m             \u001b[0mout\u001b[0m \u001b[0;34m=\u001b[0m \u001b[0mX\u001b[0m\u001b[0;34m,\u001b[0m \u001b[0my\u001b[0m\u001b[0;34m\u001b[0m\u001b[0;34m\u001b[0m\u001b[0m\n\u001b[1;32m    583\u001b[0m \u001b[0;34m\u001b[0m\u001b[0m\n",
            "\u001b[0;32m/usr/local/lib/python3.7/dist-packages/sklearn/utils/validation.py\u001b[0m in \u001b[0;36mcheck_X_y\u001b[0;34m(X, y, accept_sparse, accept_large_sparse, dtype, order, copy, force_all_finite, ensure_2d, allow_nd, multi_output, ensure_min_samples, ensure_min_features, y_numeric, estimator)\u001b[0m\n\u001b[1;32m    974\u001b[0m         \u001b[0mensure_min_samples\u001b[0m\u001b[0;34m=\u001b[0m\u001b[0mensure_min_samples\u001b[0m\u001b[0;34m,\u001b[0m\u001b[0;34m\u001b[0m\u001b[0;34m\u001b[0m\u001b[0m\n\u001b[1;32m    975\u001b[0m         \u001b[0mensure_min_features\u001b[0m\u001b[0;34m=\u001b[0m\u001b[0mensure_min_features\u001b[0m\u001b[0;34m,\u001b[0m\u001b[0;34m\u001b[0m\u001b[0;34m\u001b[0m\u001b[0m\n\u001b[0;32m--> 976\u001b[0;31m         \u001b[0mestimator\u001b[0m\u001b[0;34m=\u001b[0m\u001b[0mestimator\u001b[0m\u001b[0;34m,\u001b[0m\u001b[0;34m\u001b[0m\u001b[0;34m\u001b[0m\u001b[0m\n\u001b[0m\u001b[1;32m    977\u001b[0m     )\n\u001b[1;32m    978\u001b[0m \u001b[0;34m\u001b[0m\u001b[0m\n",
            "\u001b[0;32m/usr/local/lib/python3.7/dist-packages/sklearn/utils/validation.py\u001b[0m in \u001b[0;36mcheck_array\u001b[0;34m(array, accept_sparse, accept_large_sparse, dtype, order, copy, force_all_finite, ensure_2d, allow_nd, ensure_min_samples, ensure_min_features, estimator)\u001b[0m\n\u001b[1;32m    744\u001b[0m                     \u001b[0marray\u001b[0m \u001b[0;34m=\u001b[0m \u001b[0marray\u001b[0m\u001b[0;34m.\u001b[0m\u001b[0mastype\u001b[0m\u001b[0;34m(\u001b[0m\u001b[0mdtype\u001b[0m\u001b[0;34m,\u001b[0m \u001b[0mcasting\u001b[0m\u001b[0;34m=\u001b[0m\u001b[0;34m\"unsafe\"\u001b[0m\u001b[0;34m,\u001b[0m \u001b[0mcopy\u001b[0m\u001b[0;34m=\u001b[0m\u001b[0;32mFalse\u001b[0m\u001b[0;34m)\u001b[0m\u001b[0;34m\u001b[0m\u001b[0;34m\u001b[0m\u001b[0m\n\u001b[1;32m    745\u001b[0m                 \u001b[0;32melse\u001b[0m\u001b[0;34m:\u001b[0m\u001b[0;34m\u001b[0m\u001b[0;34m\u001b[0m\u001b[0m\n\u001b[0;32m--> 746\u001b[0;31m                     \u001b[0marray\u001b[0m \u001b[0;34m=\u001b[0m \u001b[0mnp\u001b[0m\u001b[0;34m.\u001b[0m\u001b[0masarray\u001b[0m\u001b[0;34m(\u001b[0m\u001b[0marray\u001b[0m\u001b[0;34m,\u001b[0m \u001b[0morder\u001b[0m\u001b[0;34m=\u001b[0m\u001b[0morder\u001b[0m\u001b[0;34m,\u001b[0m \u001b[0mdtype\u001b[0m\u001b[0;34m=\u001b[0m\u001b[0mdtype\u001b[0m\u001b[0;34m)\u001b[0m\u001b[0;34m\u001b[0m\u001b[0;34m\u001b[0m\u001b[0m\n\u001b[0m\u001b[1;32m    747\u001b[0m             \u001b[0;32mexcept\u001b[0m \u001b[0mComplexWarning\u001b[0m \u001b[0;32mas\u001b[0m \u001b[0mcomplex_warning\u001b[0m\u001b[0;34m:\u001b[0m\u001b[0;34m\u001b[0m\u001b[0;34m\u001b[0m\u001b[0m\n\u001b[1;32m    748\u001b[0m                 raise ValueError(\n",
            "\u001b[0;32m/usr/local/lib/python3.7/dist-packages/pandas/core/generic.py\u001b[0m in \u001b[0;36m__array__\u001b[0;34m(self, dtype)\u001b[0m\n\u001b[1;32m   1991\u001b[0m \u001b[0;34m\u001b[0m\u001b[0m\n\u001b[1;32m   1992\u001b[0m     \u001b[0;32mdef\u001b[0m \u001b[0m__array__\u001b[0m\u001b[0;34m(\u001b[0m\u001b[0mself\u001b[0m\u001b[0;34m,\u001b[0m \u001b[0mdtype\u001b[0m\u001b[0;34m:\u001b[0m \u001b[0mNpDtype\u001b[0m \u001b[0;34m|\u001b[0m \u001b[0;32mNone\u001b[0m \u001b[0;34m=\u001b[0m \u001b[0;32mNone\u001b[0m\u001b[0;34m)\u001b[0m \u001b[0;34m->\u001b[0m \u001b[0mnp\u001b[0m\u001b[0;34m.\u001b[0m\u001b[0mndarray\u001b[0m\u001b[0;34m:\u001b[0m\u001b[0;34m\u001b[0m\u001b[0;34m\u001b[0m\u001b[0m\n\u001b[0;32m-> 1993\u001b[0;31m         \u001b[0;32mreturn\u001b[0m \u001b[0mnp\u001b[0m\u001b[0;34m.\u001b[0m\u001b[0masarray\u001b[0m\u001b[0;34m(\u001b[0m\u001b[0mself\u001b[0m\u001b[0;34m.\u001b[0m\u001b[0m_values\u001b[0m\u001b[0;34m,\u001b[0m \u001b[0mdtype\u001b[0m\u001b[0;34m=\u001b[0m\u001b[0mdtype\u001b[0m\u001b[0;34m)\u001b[0m\u001b[0;34m\u001b[0m\u001b[0;34m\u001b[0m\u001b[0m\n\u001b[0m\u001b[1;32m   1994\u001b[0m \u001b[0;34m\u001b[0m\u001b[0m\n\u001b[1;32m   1995\u001b[0m     def __array_wrap__(\n",
            "\u001b[0;31mValueError\u001b[0m: could not convert string to float: 'Braund, Mr. Owen Harris'"
          ]
        }
      ]
    },
    {
      "cell_type": "code",
      "source": [
        "features.plot(kind='barh', figsize=(25, 100))"
      ],
      "metadata": {
        "id": "1vdSzk-uJYIf"
      },
      "execution_count": null,
      "outputs": []
    },
    {
      "cell_type": "code",
      "source": [
        "# scores = {}\n",
        "# for i in range(1,80):\n",
        "#     model = SelectFromModel(clf, prefit=True, max_features=i)\n",
        "#     train_reduced = model.transform(train_X)\n",
        "#     score = compute_score(RFC, X=train_reduced, y=train_y, scoring='accuracy')\n",
        "#     scores[i] = score\n",
        "\n",
        "#特徵數為66可以獲得最高值"
      ],
      "metadata": {
        "id": "eKAEzq4WLDrr"
      },
      "execution_count": null,
      "outputs": []
    },
    {
      "cell_type": "code",
      "source": [
        ""
      ],
      "metadata": {
        "colab": {
          "base_uri": "https://localhost:8080/"
        },
        "id": "WwNiYxFssW4b",
        "outputId": "dd07dcbc-1dec-4f16-f08c-8b441f940fed"
      },
      "execution_count": null,
      "outputs": [
        {
          "output_type": "execute_result",
          "data": {
            "text/plain": [
              "(891, 686)"
            ]
          },
          "metadata": {},
          "execution_count": 39
        }
      ]
    },
    {
      "cell_type": "code",
      "source": [
        "model = SelectFromModel(clf, prefit=True, max_features=66)\n",
        "train_reduced = model.transform(train_X)\n",
        "train_reduced.shape"
      ],
      "metadata": {
        "id": "wL4coly4TDKi"
      },
      "execution_count": null,
      "outputs": []
    },
    {
      "cell_type": "markdown",
      "source": [
        "###Gradient Boosting 梯度提升技術（決策樹）"
      ],
      "metadata": {
        "id": "7HllhgOMKDx0"
      }
    },
    {
      "cell_type": "code",
      "source": [
        "from sklearn.ensemble import GradientBoostingClassifier\n",
        "\n",
        "gb = GradientBoostingClassifier()\n",
        "\n",
        "score = compute_score(gb, X=train_reduced, y=train_y, scoring='accuracy')\n",
        "print (\"CV score =\" , score)\n",
        "print (\"****\")"
      ],
      "metadata": {
        "colab": {
          "base_uri": "https://localhost:8080/"
        },
        "id": "AuMs5aHMA2Ue",
        "outputId": "377a6908-47a9-4d7b-8a6f-b11c75b54d79"
      },
      "execution_count": null,
      "outputs": [
        {
          "output_type": "stream",
          "name": "stderr",
          "text": [
            "/usr/local/lib/python3.7/dist-packages/sklearn/ensemble/_gb.py:494: DataConversionWarning: A column-vector y was passed when a 1d array was expected. Please change the shape of y to (n_samples, ), for example using ravel().\n",
            "  y = column_or_1d(y, warn=True)\n",
            "/usr/local/lib/python3.7/dist-packages/sklearn/ensemble/_gb.py:494: DataConversionWarning: A column-vector y was passed when a 1d array was expected. Please change the shape of y to (n_samples, ), for example using ravel().\n",
            "  y = column_or_1d(y, warn=True)\n",
            "/usr/local/lib/python3.7/dist-packages/sklearn/ensemble/_gb.py:494: DataConversionWarning: A column-vector y was passed when a 1d array was expected. Please change the shape of y to (n_samples, ), for example using ravel().\n",
            "  y = column_or_1d(y, warn=True)\n",
            "/usr/local/lib/python3.7/dist-packages/sklearn/ensemble/_gb.py:494: DataConversionWarning: A column-vector y was passed when a 1d array was expected. Please change the shape of y to (n_samples, ), for example using ravel().\n",
            "  y = column_or_1d(y, warn=True)\n"
          ]
        },
        {
          "output_type": "stream",
          "name": "stdout",
          "text": [
            "CV score = 0.7846902266022221\n",
            "****\n"
          ]
        },
        {
          "output_type": "stream",
          "name": "stderr",
          "text": [
            "/usr/local/lib/python3.7/dist-packages/sklearn/ensemble/_gb.py:494: DataConversionWarning: A column-vector y was passed when a 1d array was expected. Please change the shape of y to (n_samples, ), for example using ravel().\n",
            "  y = column_or_1d(y, warn=True)\n"
          ]
        }
      ]
    },
    {
      "cell_type": "code",
      "source": [
        "from sklearn.ensemble import GradientBoostingClassifier\n",
        "\n",
        "gb = GradientBoostingClassifier()\n",
        "\n",
        "score = compute_score(gb, X=train_X, y=train_y, scoring='accuracy')\n",
        "print (\"CV score =\" , score)\n",
        "print (\"****\")"
      ],
      "metadata": {
        "colab": {
          "base_uri": "https://localhost:8080/"
        },
        "id": "AW0mPUJ5Gw8B",
        "outputId": "f42a4a27-0f07-4ef0-e4a3-933bf2224a33"
      },
      "execution_count": null,
      "outputs": [
        {
          "output_type": "stream",
          "name": "stderr",
          "text": [
            "/usr/local/lib/python3.7/dist-packages/sklearn/ensemble/_gb.py:494: DataConversionWarning: A column-vector y was passed when a 1d array was expected. Please change the shape of y to (n_samples, ), for example using ravel().\n",
            "  y = column_or_1d(y, warn=True)\n",
            "/usr/local/lib/python3.7/dist-packages/sklearn/ensemble/_gb.py:494: DataConversionWarning: A column-vector y was passed when a 1d array was expected. Please change the shape of y to (n_samples, ), for example using ravel().\n",
            "  y = column_or_1d(y, warn=True)\n",
            "/usr/local/lib/python3.7/dist-packages/sklearn/ensemble/_gb.py:494: DataConversionWarning: A column-vector y was passed when a 1d array was expected. Please change the shape of y to (n_samples, ), for example using ravel().\n",
            "  y = column_or_1d(y, warn=True)\n",
            "/usr/local/lib/python3.7/dist-packages/sklearn/ensemble/_gb.py:494: DataConversionWarning: A column-vector y was passed when a 1d array was expected. Please change the shape of y to (n_samples, ), for example using ravel().\n",
            "  y = column_or_1d(y, warn=True)\n",
            "/usr/local/lib/python3.7/dist-packages/sklearn/ensemble/_gb.py:494: DataConversionWarning: A column-vector y was passed when a 1d array was expected. Please change the shape of y to (n_samples, ), for example using ravel().\n",
            "  y = column_or_1d(y, warn=True)\n"
          ]
        },
        {
          "output_type": "stream",
          "name": "stdout",
          "text": [
            "CV score = 0.7824367585211223\n",
            "****\n"
          ]
        }
      ]
    },
    {
      "cell_type": "markdown",
      "source": [
        "###LogisticRegression 羅吉斯回歸 "
      ],
      "metadata": {
        "id": "cYWODKIWJtHz"
      }
    },
    {
      "cell_type": "code",
      "source": [
        "from sklearn.linear_model import LogisticRegression, LogisticRegressionCV\n",
        "from sklearn.model_selection import cross_val_score\n",
        "\n",
        "log = LogisticRegression(random_state=0, max_iter=3000)\n",
        "log_cv = LogisticRegressionCV(random_state=0, max_iter=3000)\n",
        "\n",
        "score = compute_score(log, X=train_reduced, y=train_y, scoring='accuracy')\n",
        "print (\"CV score =\" , score)\n",
        "print (\"****\")"
      ],
      "metadata": {
        "colab": {
          "base_uri": "https://localhost:8080/"
        },
        "id": "BAuoU_hIcyp8",
        "outputId": "4c76c0a9-9ff7-4d0c-ab7a-aae18a965f4b"
      },
      "execution_count": null,
      "outputs": [
        {
          "output_type": "stream",
          "name": "stderr",
          "text": [
            "/usr/local/lib/python3.7/dist-packages/sklearn/utils/validation.py:993: DataConversionWarning: A column-vector y was passed when a 1d array was expected. Please change the shape of y to (n_samples, ), for example using ravel().\n",
            "  y = column_or_1d(y, warn=True)\n",
            "/usr/local/lib/python3.7/dist-packages/sklearn/utils/validation.py:993: DataConversionWarning: A column-vector y was passed when a 1d array was expected. Please change the shape of y to (n_samples, ), for example using ravel().\n",
            "  y = column_or_1d(y, warn=True)\n",
            "/usr/local/lib/python3.7/dist-packages/sklearn/utils/validation.py:993: DataConversionWarning: A column-vector y was passed when a 1d array was expected. Please change the shape of y to (n_samples, ), for example using ravel().\n",
            "  y = column_or_1d(y, warn=True)\n",
            "/usr/local/lib/python3.7/dist-packages/sklearn/utils/validation.py:993: DataConversionWarning: A column-vector y was passed when a 1d array was expected. Please change the shape of y to (n_samples, ), for example using ravel().\n",
            "  y = column_or_1d(y, warn=True)\n",
            "/usr/local/lib/python3.7/dist-packages/sklearn/utils/validation.py:993: DataConversionWarning: A column-vector y was passed when a 1d array was expected. Please change the shape of y to (n_samples, ), for example using ravel().\n",
            "  y = column_or_1d(y, warn=True)\n"
          ]
        },
        {
          "output_type": "stream",
          "name": "stdout",
          "text": [
            "CV score = 0.828278199736363\n",
            "****\n"
          ]
        }
      ]
    },
    {
      "cell_type": "code",
      "source": [
        "from sklearn.linear_model import LogisticRegression, LogisticRegressionCV\n",
        "from sklearn.model_selection import cross_val_score\n",
        "\n",
        "log = LogisticRegression(random_state=0, max_iter=3000)\n",
        "log_cv = LogisticRegressionCV(random_state=0, max_iter=3000)\n",
        "\n",
        "score = compute_score(log, X=train_X, y=train_y, scoring='accuracy')\n",
        "print (\"CV score =\" , score)\n",
        "print (\"****\")"
      ],
      "metadata": {
        "colab": {
          "base_uri": "https://localhost:8080/"
        },
        "id": "NN2eVripG3fS",
        "outputId": "4eba6e97-d6cb-46ed-add3-95b22e4fe3b7"
      },
      "execution_count": null,
      "outputs": [
        {
          "output_type": "stream",
          "name": "stderr",
          "text": [
            "/usr/local/lib/python3.7/dist-packages/sklearn/utils/validation.py:993: DataConversionWarning: A column-vector y was passed when a 1d array was expected. Please change the shape of y to (n_samples, ), for example using ravel().\n",
            "  y = column_or_1d(y, warn=True)\n",
            "/usr/local/lib/python3.7/dist-packages/sklearn/utils/validation.py:993: DataConversionWarning: A column-vector y was passed when a 1d array was expected. Please change the shape of y to (n_samples, ), for example using ravel().\n",
            "  y = column_or_1d(y, warn=True)\n",
            "/usr/local/lib/python3.7/dist-packages/sklearn/utils/validation.py:993: DataConversionWarning: A column-vector y was passed when a 1d array was expected. Please change the shape of y to (n_samples, ), for example using ravel().\n",
            "  y = column_or_1d(y, warn=True)\n",
            "/usr/local/lib/python3.7/dist-packages/sklearn/utils/validation.py:993: DataConversionWarning: A column-vector y was passed when a 1d array was expected. Please change the shape of y to (n_samples, ), for example using ravel().\n",
            "  y = column_or_1d(y, warn=True)\n",
            "/usr/local/lib/python3.7/dist-packages/sklearn/utils/validation.py:993: DataConversionWarning: A column-vector y was passed when a 1d array was expected. Please change the shape of y to (n_samples, ), for example using ravel().\n",
            "  y = column_or_1d(y, warn=True)\n"
          ]
        },
        {
          "output_type": "stream",
          "name": "stdout",
          "text": [
            "CV score = 0.8260310087251271\n",
            "****\n"
          ]
        }
      ]
    },
    {
      "cell_type": "markdown",
      "source": [
        "###KNN法（分數低於0.6）"
      ],
      "metadata": {
        "id": "inRhQ5dfJyht"
      }
    },
    {
      "cell_type": "code",
      "source": [
        "from sklearn.metrics import mean_absolute_error\n",
        "from sklearn.neighbors import KNeighborsClassifier\n",
        "knn = KNeighborsClassifier()\n",
        "\n",
        "score = compute_score(knn, X=train_reduced, y=train_y, scoring='accuracy')\n",
        "print (\"CV score =\" , score)\n",
        "print (\"****\")"
      ],
      "metadata": {
        "colab": {
          "base_uri": "https://localhost:8080/"
        },
        "id": "LHVf36up6Wdy",
        "outputId": "83d9d205-8a6b-4cd6-b6f1-c09f595127f3"
      },
      "execution_count": null,
      "outputs": [
        {
          "output_type": "stream",
          "name": "stdout",
          "text": [
            "CV score = 0.5453706609754566\n",
            "****\n"
          ]
        },
        {
          "output_type": "stream",
          "name": "stderr",
          "text": [
            "/usr/local/lib/python3.7/dist-packages/sklearn/neighbors/_classification.py:198: DataConversionWarning: A column-vector y was passed when a 1d array was expected. Please change the shape of y to (n_samples,), for example using ravel().\n",
            "  return self._fit(X, y)\n",
            "/usr/local/lib/python3.7/dist-packages/sklearn/neighbors/_classification.py:198: DataConversionWarning: A column-vector y was passed when a 1d array was expected. Please change the shape of y to (n_samples,), for example using ravel().\n",
            "  return self._fit(X, y)\n",
            "/usr/local/lib/python3.7/dist-packages/sklearn/neighbors/_classification.py:198: DataConversionWarning: A column-vector y was passed when a 1d array was expected. Please change the shape of y to (n_samples,), for example using ravel().\n",
            "  return self._fit(X, y)\n",
            "/usr/local/lib/python3.7/dist-packages/sklearn/neighbors/_classification.py:198: DataConversionWarning: A column-vector y was passed when a 1d array was expected. Please change the shape of y to (n_samples,), for example using ravel().\n",
            "  return self._fit(X, y)\n",
            "/usr/local/lib/python3.7/dist-packages/sklearn/neighbors/_classification.py:198: DataConversionWarning: A column-vector y was passed when a 1d array was expected. Please change the shape of y to (n_samples,), for example using ravel().\n",
            "  return self._fit(X, y)\n"
          ]
        }
      ]
    },
    {
      "cell_type": "code",
      "source": [
        ""
      ],
      "metadata": {
        "id": "N9MBrcLyJ7zL"
      },
      "execution_count": null,
      "outputs": []
    },
    {
      "cell_type": "markdown",
      "source": [
        "###NuSVC"
      ],
      "metadata": {
        "id": "VVgiBxzVUaHG"
      }
    },
    {
      "cell_type": "code",
      "source": [
        "from sklearn import svm\n",
        "clf = svm.NuSVC()\n",
        "\n",
        "score = compute_score(clf, X=train_reduced, y=train_y, scoring='accuracy')\n",
        "print (\"score =\" , score)\n",
        "print (\"****\")"
      ],
      "metadata": {
        "colab": {
          "base_uri": "https://localhost:8080/"
        },
        "id": "b9wD8nMzUbBZ",
        "outputId": "02587fb0-90a6-4f71-da71-6c5daa632148"
      },
      "execution_count": null,
      "outputs": [
        {
          "output_type": "stream",
          "name": "stderr",
          "text": [
            "/usr/local/lib/python3.7/dist-packages/sklearn/utils/validation.py:993: DataConversionWarning: A column-vector y was passed when a 1d array was expected. Please change the shape of y to (n_samples, ), for example using ravel().\n",
            "  y = column_or_1d(y, warn=True)\n",
            "/usr/local/lib/python3.7/dist-packages/sklearn/utils/validation.py:993: DataConversionWarning: A column-vector y was passed when a 1d array was expected. Please change the shape of y to (n_samples, ), for example using ravel().\n",
            "  y = column_or_1d(y, warn=True)\n",
            "/usr/local/lib/python3.7/dist-packages/sklearn/utils/validation.py:993: DataConversionWarning: A column-vector y was passed when a 1d array was expected. Please change the shape of y to (n_samples, ), for example using ravel().\n",
            "  y = column_or_1d(y, warn=True)\n",
            "/usr/local/lib/python3.7/dist-packages/sklearn/utils/validation.py:993: DataConversionWarning: A column-vector y was passed when a 1d array was expected. Please change the shape of y to (n_samples, ), for example using ravel().\n",
            "  y = column_or_1d(y, warn=True)\n",
            "/usr/local/lib/python3.7/dist-packages/sklearn/utils/validation.py:993: DataConversionWarning: A column-vector y was passed when a 1d array was expected. Please change the shape of y to (n_samples, ), for example using ravel().\n",
            "  y = column_or_1d(y, warn=True)\n"
          ]
        },
        {
          "output_type": "stream",
          "name": "stdout",
          "text": [
            "score = 0.7172807733350072\n",
            "****\n"
          ]
        }
      ]
    },
    {
      "cell_type": "markdown",
      "source": [
        "###隨機森林 "
      ],
      "metadata": {
        "id": "eI0wjlWqKARq"
      }
    },
    {
      "cell_type": "code",
      "source": [
        "# 隨機森林參數：\n",
        "# n_estimators: 樹的數量(default=10)。\n",
        "# min_samples_leaf: 最終葉節點最少樣本數(default=1)；\n",
        "#                   當樣本不大時，可不設定使用預設，若樣本數量非常大時，則推薦增加此參數值。\n",
        "# min_samples_split:節點再劃分時所需的最小樣本數(default=2)；\n",
        "#                   當樣本不大時，可不設定使用預設，若樣本數量非常大時，則推薦增加此參數值。\n",
        "# oob_score: 是否採用袋外樣本(out-of-bag samples)來評估模型的準確度(default=False)。\n",
        "from sklearn.ensemble import RandomForestClassifier\n",
        "\n",
        "\n",
        "RFC = RandomForestClassifier( n_estimators = 460,\n",
        "                              min_samples_split = 10,\n",
        "                              min_samples_leaf = 1,\n",
        "                              oob_score = True,\n",
        "                              random_state = 1,)\n",
        "\n",
        "\n",
        "score = compute_score(RFC, X=train_reduced, y=train_y, scoring='accuracy')\n",
        "print (\"CV score =\" , score)\n",
        "print (\"****\")"
      ],
      "metadata": {
        "colab": {
          "base_uri": "https://localhost:8080/"
        },
        "id": "FVyYtFwHFe2f",
        "outputId": "028af596-19af-4783-de7f-aea069c6c639"
      },
      "execution_count": null,
      "outputs": [
        {
          "output_type": "stream",
          "name": "stderr",
          "text": [
            "/usr/local/lib/python3.7/dist-packages/sklearn/model_selection/_validation.py:680: DataConversionWarning: A column-vector y was passed when a 1d array was expected. Please change the shape of y to (n_samples,), for example using ravel().\n",
            "  estimator.fit(X_train, y_train, **fit_params)\n",
            "/usr/local/lib/python3.7/dist-packages/sklearn/model_selection/_validation.py:680: DataConversionWarning: A column-vector y was passed when a 1d array was expected. Please change the shape of y to (n_samples,), for example using ravel().\n",
            "  estimator.fit(X_train, y_train, **fit_params)\n",
            "/usr/local/lib/python3.7/dist-packages/sklearn/model_selection/_validation.py:680: DataConversionWarning: A column-vector y was passed when a 1d array was expected. Please change the shape of y to (n_samples,), for example using ravel().\n",
            "  estimator.fit(X_train, y_train, **fit_params)\n",
            "/usr/local/lib/python3.7/dist-packages/sklearn/model_selection/_validation.py:680: DataConversionWarning: A column-vector y was passed when a 1d array was expected. Please change the shape of y to (n_samples,), for example using ravel().\n",
            "  estimator.fit(X_train, y_train, **fit_params)\n",
            "/usr/local/lib/python3.7/dist-packages/sklearn/model_selection/_validation.py:680: DataConversionWarning: A column-vector y was passed when a 1d array was expected. Please change the shape of y to (n_samples,), for example using ravel().\n",
            "  estimator.fit(X_train, y_train, **fit_params)\n"
          ]
        },
        {
          "output_type": "stream",
          "name": "stdout",
          "text": [
            "CV score = 0.8327474734793798\n",
            "****\n"
          ]
        }
      ]
    },
    {
      "cell_type": "code",
      "source": [
        ""
      ],
      "metadata": {
        "id": "5tyVhnqw96Dv"
      },
      "execution_count": null,
      "outputs": []
    },
    {
      "cell_type": "markdown",
      "source": [
        "##2. 可以利用「sklearn.model_selection 下的 GridSearchCV(...)」進行參數的調整。"
      ],
      "metadata": {
        "id": "MakudkvsclJL"
      }
    },
    {
      "cell_type": "markdown",
      "source": [
        ""
      ],
      "metadata": {
        "id": "mUcCqqNAlErR"
      }
    },
    {
      "cell_type": "code",
      "source": [
        "# turn run_gs to True if you want to run the gridsearch again.\n",
        "run_gs = False\n",
        "\n",
        "if run_gs:\n",
        "    parameter_grid = {\n",
        "                 'max_depth' : [4, 6, 8],\n",
        "                 'n_estimators': [50, 10],\n",
        "                 'max_features': ['sqrt', 'auto', 'log2'],\n",
        "                 'min_samples_split': [2, 3, 10],\n",
        "                 'min_samples_leaf': [1, 3, 10],\n",
        "                 'bootstrap': [True, False],\n",
        "                 }\n",
        "    forest = RandomForestClassifier()\n",
        "    cross_validation = StratifiedKFold(n_splits=5)\n",
        "\n",
        "    grid_search = GridSearchCV(forest,\n",
        "                               scoring='accuracy',\n",
        "                               param_grid=parameter_grid,\n",
        "                               cv=cross_validation,\n",
        "                               verbose=1\n",
        "                              )\n",
        "\n",
        "    grid_search.fit(train_reduced, train_y)\n",
        "    model = grid_search\n",
        "    parameters = grid_search.best_params_\n",
        "\n",
        "    print('Best score: {}'.format(grid_search.best_score_))\n",
        "    print('Best parameters: {}'.format(grid_search.best_params_))\n",
        "\n",
        "else:\n",
        "    parameters = {'bootstrap': False, \n",
        "                  'max_depth': 8, \n",
        "                  'max_features': 'auto', \n",
        "                  'min_samples_leaf': 3, 'min_samples_split': 3, 'n_estimators': 10}\n",
        "    model = RandomForestClassifier(**parameters)\n",
        "    model.fit(train_reduced, train_y)"
      ],
      "metadata": {
        "colab": {
          "base_uri": "https://localhost:8080/"
        },
        "id": "RhJdK7pCcyO6",
        "outputId": "c85bdf9e-459b-4f94-9209-1f8c99cea4a3"
      },
      "execution_count": null,
      "outputs": [
        {
          "output_type": "stream",
          "name": "stderr",
          "text": [
            "/usr/local/lib/python3.7/dist-packages/ipykernel_launcher.py:36: DataConversionWarning: A column-vector y was passed when a 1d array was expected. Please change the shape of y to (n_samples,), for example using ravel().\n"
          ]
        }
      ]
    },
    {
      "cell_type": "code",
      "source": [
        "RFC = RandomForestClassifier( n_estimators = 460,\n",
        "                              min_samples_split = 10,\n",
        "                              min_samples_leaf = 1,\n",
        "                              oob_score = True,\n",
        "                              random_state = 1,)"
      ],
      "metadata": {
        "id": "cNJxWViGtBoB"
      },
      "execution_count": null,
      "outputs": []
    },
    {
      "cell_type": "code",
      "source": [
        "score = compute_score(RFC, X=train_reduced, y=train_y, scoring='accuracy')\n",
        "print (\"CV score =\" , score)\n",
        "print (\"****\")"
      ],
      "metadata": {
        "colab": {
          "base_uri": "https://localhost:8080/"
        },
        "id": "3Le7V_ESdYL9",
        "outputId": "b94ca72b-f1fb-4c6c-fd3a-30fe10026dca"
      },
      "execution_count": null,
      "outputs": [
        {
          "output_type": "stream",
          "name": "stderr",
          "text": [
            "/usr/local/lib/python3.7/dist-packages/sklearn/model_selection/_validation.py:680: DataConversionWarning: A column-vector y was passed when a 1d array was expected. Please change the shape of y to (n_samples,), for example using ravel().\n",
            "  estimator.fit(X_train, y_train, **fit_params)\n",
            "/usr/local/lib/python3.7/dist-packages/sklearn/model_selection/_validation.py:680: DataConversionWarning: A column-vector y was passed when a 1d array was expected. Please change the shape of y to (n_samples,), for example using ravel().\n",
            "  estimator.fit(X_train, y_train, **fit_params)\n",
            "/usr/local/lib/python3.7/dist-packages/sklearn/model_selection/_validation.py:680: DataConversionWarning: A column-vector y was passed when a 1d array was expected. Please change the shape of y to (n_samples,), for example using ravel().\n",
            "  estimator.fit(X_train, y_train, **fit_params)\n",
            "/usr/local/lib/python3.7/dist-packages/sklearn/model_selection/_validation.py:680: DataConversionWarning: A column-vector y was passed when a 1d array was expected. Please change the shape of y to (n_samples,), for example using ravel().\n",
            "  estimator.fit(X_train, y_train, **fit_params)\n",
            "/usr/local/lib/python3.7/dist-packages/sklearn/model_selection/_validation.py:680: DataConversionWarning: A column-vector y was passed when a 1d array was expected. Please change the shape of y to (n_samples,), for example using ravel().\n",
            "  estimator.fit(X_train, y_train, **fit_params)\n"
          ]
        },
        {
          "output_type": "stream",
          "name": "stdout",
          "text": [
            "CV score = 0.8327474734793798\n",
            "****\n"
          ]
        }
      ]
    },
    {
      "cell_type": "markdown",
      "source": [
        "##3. 最後也請嘗試看看除了 scikit-learn 之外的其他模型套件，例如 pytorch、tensorflow 或 xgboost。"
      ],
      "metadata": {
        "id": "oZvNcNQIcoBL"
      }
    },
    {
      "cell_type": "markdown",
      "source": [
        "###Keras(Tensorflow backend)"
      ],
      "metadata": {
        "id": "JIf_KXpNt8Mm"
      }
    },
    {
      "cell_type": "code",
      "source": [
        "#將train的data做切割，分成x和y\n",
        "columns_X = set(df_train.columns) - {'Survived'}\n",
        "columns_y = ['Survived']\n",
        "\n",
        "train_X = df_train[columns_X]\n",
        "train_y = df_train[columns_y]\n",
        "\n",
        "from sklearn.model_selection import train_test_split\n",
        "X_train, X_test, y_train, y_test = train_test_split(train_X, train_y, test_size = 0.2, random_state=0)"
      ],
      "metadata": {
        "id": "RFcF-hFOwqvz"
      },
      "execution_count": null,
      "outputs": []
    },
    {
      "cell_type": "code",
      "source": [
        "import tensorflow as tf\n",
        "from tensorflow import keras\n",
        "from tensorflow.keras import layers"
      ],
      "metadata": {
        "id": "29cTh5M1pIM8"
      },
      "execution_count": null,
      "outputs": []
    },
    {
      "cell_type": "code",
      "source": [
        "modelTF = tf.keras.models.Sequential([\n",
        "    layers.Dense(32, name=\"hidden1\"),\n",
        "    layers.Dense(32, name=\"hidden2\"),\n",
        "    layers.Dense(3, name=\"output\", activation=tf.nn.softmax),\n",
        "])"
      ],
      "metadata": {
        "id": "ya4ASSrZt7LY"
      },
      "execution_count": null,
      "outputs": []
    },
    {
      "cell_type": "code",
      "source": [
        "modelTF.compile(loss=\"mae\", optimizer=\"sgd\")"
      ],
      "metadata": {
        "id": "9g8oOlhht-o_"
      },
      "execution_count": null,
      "outputs": []
    },
    {
      "cell_type": "code",
      "source": [
        "modelTF.fit(X_train, y_train, epochs=100, batch_size=16)"
      ],
      "metadata": {
        "id": "ubcjjq10uAh5"
      },
      "execution_count": null,
      "outputs": []
    },
    {
      "cell_type": "code",
      "source": [
        "acc = modelTF.evaluate(X_test, y_test)\n",
        "# print(\"loss_test:\", loss)\n",
        "print(\"acc_test: \", acc)"
      ],
      "metadata": {
        "colab": {
          "base_uri": "https://localhost:8080/"
        },
        "id": "-raXt1VGuI8W",
        "outputId": "39944977-a95a-48ed-ddbd-c07d0305fdef"
      },
      "execution_count": null,
      "outputs": [
        {
          "output_type": "stream",
          "name": "stdout",
          "text": [
            "6/6 [==============================] - 0s 4ms/step - loss: 0.4618\n",
            "acc_test:  0.4618249833583832\n"
          ]
        }
      ]
    },
    {
      "cell_type": "code",
      "source": [
        "mae = modelTF.evaluate(X_test, y_test)\n",
        "print(\"MAE_test: \", mae)"
      ],
      "metadata": {
        "colab": {
          "base_uri": "https://localhost:8080/"
        },
        "id": "uIGtlJvRuEQO",
        "outputId": "c24e2cb9-5e21-4e7e-c1ab-45014536d96d"
      },
      "execution_count": null,
      "outputs": [
        {
          "output_type": "stream",
          "name": "stdout",
          "text": [
            "6/6 [==============================] - 0s 3ms/step - loss: 0.4618\n",
            "MAE_test:  0.4618249833583832\n"
          ]
        }
      ]
    },
    {
      "cell_type": "markdown",
      "source": [
        "### PyTorch"
      ],
      "metadata": {
        "id": "y2GVVSuWxp38"
      }
    },
    {
      "cell_type": "code",
      "source": [
        "X_train = X_train.to_numpy()\n",
        "y_train = y_train.to_numpy()\n",
        "X_test = X_test.to_numpy()\n",
        "y_test = y_test.to_numpy()"
      ],
      "metadata": {
        "colab": {
          "base_uri": "https://localhost:8080/",
          "height": 222
        },
        "id": "5TUyrRta2hSV",
        "outputId": "fbd09c7d-3df5-4bef-cf96-82037488746f"
      },
      "execution_count": null,
      "outputs": [
        {
          "output_type": "error",
          "ename": "AttributeError",
          "evalue": "ignored",
          "traceback": [
            "\u001b[0;31m---------------------------------------------------------------------------\u001b[0m",
            "\u001b[0;31mAttributeError\u001b[0m                            Traceback (most recent call last)",
            "\u001b[0;32m<ipython-input-128-2d4739b5453c>\u001b[0m in \u001b[0;36m<module>\u001b[0;34m()\u001b[0m\n\u001b[0;32m----> 1\u001b[0;31m \u001b[0mX_train\u001b[0m \u001b[0;34m=\u001b[0m \u001b[0mX_train\u001b[0m\u001b[0;34m.\u001b[0m\u001b[0mto_numpy\u001b[0m\u001b[0;34m(\u001b[0m\u001b[0;34m)\u001b[0m\u001b[0;34m\u001b[0m\u001b[0;34m\u001b[0m\u001b[0m\n\u001b[0m\u001b[1;32m      2\u001b[0m \u001b[0my_train\u001b[0m \u001b[0;34m=\u001b[0m \u001b[0my_train\u001b[0m\u001b[0;34m.\u001b[0m\u001b[0mto_numpy\u001b[0m\u001b[0;34m(\u001b[0m\u001b[0;34m)\u001b[0m\u001b[0;34m\u001b[0m\u001b[0;34m\u001b[0m\u001b[0m\n\u001b[1;32m      3\u001b[0m \u001b[0mX_test\u001b[0m \u001b[0;34m=\u001b[0m \u001b[0mX_test\u001b[0m\u001b[0;34m.\u001b[0m\u001b[0mto_numpy\u001b[0m\u001b[0;34m(\u001b[0m\u001b[0;34m)\u001b[0m\u001b[0;34m\u001b[0m\u001b[0;34m\u001b[0m\u001b[0m\n\u001b[1;32m      4\u001b[0m \u001b[0my_test\u001b[0m \u001b[0;34m=\u001b[0m \u001b[0my_test\u001b[0m\u001b[0;34m.\u001b[0m\u001b[0mto_numpy\u001b[0m\u001b[0;34m(\u001b[0m\u001b[0;34m)\u001b[0m\u001b[0;34m\u001b[0m\u001b[0;34m\u001b[0m\u001b[0m\n",
            "\u001b[0;31mAttributeError\u001b[0m: 'numpy.ndarray' object has no attribute 'to_numpy'"
          ]
        }
      ]
    },
    {
      "cell_type": "code",
      "source": [
        "import torch\n",
        "import torch.nn.functional as F\n",
        "from sklearn.metrics import accuracy_score\n",
        "\n",
        "# 創建模型架構\n",
        "class TTModel(torch.nn.Module):\n",
        "    def __init__(self, input_size, hidden_size, output_size):\n",
        "        super(Model, self).__init__()\n",
        "        self.hidden1 = torch.nn.Linear(input_size, hidden_size)\n",
        "        self.hidden2 = torch.nn.Linear(hidden_size, hidden_size)\n",
        "        self.predict = torch.nn.Linear(hidden_size, output_size)\n",
        "\n",
        "    def forward(self, x):\n",
        "        output1 = self.hidden1(x)\n",
        "        output2 = self.hidden2(output1)\n",
        "        y_pred = F.relu(output2)\n",
        "        return y_pred\n",
        "\n",
        "# 模型、優化器初始化\n",
        "model = TTModel(X_test.shape[1], 32, 3)\n",
        "optimizer = torch.optim.SGD(model.parameters(), lr=0.01) # 模型參數優化器\n",
        "loss_func = torch.nn.MSELoss(reduction = \"mean\")\n",
        "\n",
        "# 資料格式轉成torch專用格式\n",
        "x_data = torch.tensor(X_train, dtype=torch.float32) # [120, 4]\n",
        "y_data = torch.tensor(y_train, dtype=torch.float32) # [120, 3]\n",
        "\n",
        "# 訓練50回合，\n",
        "for t in range(50):\n",
        "    #train\n",
        "    model.train()\n",
        "    loss_epoch = 0.0\n",
        "    for i in range(0, len(x_data), 16):\n",
        "        prediction = model(x_data[i:i+16])\n",
        "        loss = loss_func(prediction, y_data[i:i+16])\n",
        "\n",
        "        optimizer.zero_grad()\n",
        "        loss.backward()\n",
        "        optimizer.step()\n",
        "    model.eval()\n",
        "    loss = loss_func(model(x_data), y_data)\n",
        "    print(loss)\n",
        "\n",
        "\n",
        "\n",
        "x_test_data = torch.tensor(X_test, dtype=torch.float32)\n",
        "y_pred = model(x_test_data)\n",
        "y_pred = y_pred.argmax(1) # one hot array to int array\n",
        "accuracy_score(y_test, y_pred.detach().numpy()) # accuracy"
      ],
      "metadata": {
        "colab": {
          "base_uri": "https://localhost:8080/",
          "height": 361
        },
        "id": "uEs1h8xSxsWf",
        "outputId": "b6d91744-9edd-4282-d664-f5c3b7205a55"
      },
      "execution_count": null,
      "outputs": [
        {
          "output_type": "error",
          "ename": "TypeError",
          "evalue": "ignored",
          "traceback": [
            "\u001b[0;31m---------------------------------------------------------------------------\u001b[0m",
            "\u001b[0;31mTypeError\u001b[0m                                 Traceback (most recent call last)",
            "\u001b[0;32m<ipython-input-125-18d8792736bf>\u001b[0m in \u001b[0;36m<module>\u001b[0;34m()\u001b[0m\n\u001b[1;32m     18\u001b[0m \u001b[0;34m\u001b[0m\u001b[0m\n\u001b[1;32m     19\u001b[0m \u001b[0;31m# 模型、優化器初始化\u001b[0m\u001b[0;34m\u001b[0m\u001b[0;34m\u001b[0m\u001b[0;34m\u001b[0m\u001b[0m\n\u001b[0;32m---> 20\u001b[0;31m \u001b[0mmodel\u001b[0m \u001b[0;34m=\u001b[0m \u001b[0mTTModel\u001b[0m\u001b[0;34m(\u001b[0m\u001b[0mX_test\u001b[0m\u001b[0;34m.\u001b[0m\u001b[0mshape\u001b[0m\u001b[0;34m[\u001b[0m\u001b[0;36m1\u001b[0m\u001b[0;34m]\u001b[0m\u001b[0;34m,\u001b[0m \u001b[0;36m32\u001b[0m\u001b[0;34m,\u001b[0m \u001b[0;36m3\u001b[0m\u001b[0;34m)\u001b[0m\u001b[0;34m\u001b[0m\u001b[0;34m\u001b[0m\u001b[0m\n\u001b[0m\u001b[1;32m     21\u001b[0m \u001b[0moptimizer\u001b[0m \u001b[0;34m=\u001b[0m \u001b[0mtorch\u001b[0m\u001b[0;34m.\u001b[0m\u001b[0moptim\u001b[0m\u001b[0;34m.\u001b[0m\u001b[0mSGD\u001b[0m\u001b[0;34m(\u001b[0m\u001b[0mmodel\u001b[0m\u001b[0;34m.\u001b[0m\u001b[0mparameters\u001b[0m\u001b[0;34m(\u001b[0m\u001b[0;34m)\u001b[0m\u001b[0;34m,\u001b[0m \u001b[0mlr\u001b[0m\u001b[0;34m=\u001b[0m\u001b[0;36m0.01\u001b[0m\u001b[0;34m)\u001b[0m \u001b[0;31m# 模型參數優化器\u001b[0m\u001b[0;34m\u001b[0m\u001b[0;34m\u001b[0m\u001b[0m\n\u001b[1;32m     22\u001b[0m \u001b[0mloss_func\u001b[0m \u001b[0;34m=\u001b[0m \u001b[0mtorch\u001b[0m\u001b[0;34m.\u001b[0m\u001b[0mnn\u001b[0m\u001b[0;34m.\u001b[0m\u001b[0mMSELoss\u001b[0m\u001b[0;34m(\u001b[0m\u001b[0mreduction\u001b[0m \u001b[0;34m=\u001b[0m \u001b[0;34m\"mean\"\u001b[0m\u001b[0;34m)\u001b[0m\u001b[0;34m\u001b[0m\u001b[0;34m\u001b[0m\u001b[0m\n",
            "\u001b[0;32m<ipython-input-125-18d8792736bf>\u001b[0m in \u001b[0;36m__init__\u001b[0;34m(self, input_size, hidden_size, output_size)\u001b[0m\n\u001b[1;32m      6\u001b[0m \u001b[0;32mclass\u001b[0m \u001b[0mTTModel\u001b[0m\u001b[0;34m(\u001b[0m\u001b[0mtorch\u001b[0m\u001b[0;34m.\u001b[0m\u001b[0mnn\u001b[0m\u001b[0;34m.\u001b[0m\u001b[0mModule\u001b[0m\u001b[0;34m)\u001b[0m\u001b[0;34m:\u001b[0m\u001b[0;34m\u001b[0m\u001b[0;34m\u001b[0m\u001b[0m\n\u001b[1;32m      7\u001b[0m     \u001b[0;32mdef\u001b[0m \u001b[0m__init__\u001b[0m\u001b[0;34m(\u001b[0m\u001b[0mself\u001b[0m\u001b[0;34m,\u001b[0m \u001b[0minput_size\u001b[0m\u001b[0;34m,\u001b[0m \u001b[0mhidden_size\u001b[0m\u001b[0;34m,\u001b[0m \u001b[0moutput_size\u001b[0m\u001b[0;34m)\u001b[0m\u001b[0;34m:\u001b[0m\u001b[0;34m\u001b[0m\u001b[0;34m\u001b[0m\u001b[0m\n\u001b[0;32m----> 8\u001b[0;31m         \u001b[0msuper\u001b[0m\u001b[0;34m(\u001b[0m\u001b[0mModel\u001b[0m\u001b[0;34m,\u001b[0m \u001b[0mself\u001b[0m\u001b[0;34m)\u001b[0m\u001b[0;34m.\u001b[0m\u001b[0m__init__\u001b[0m\u001b[0;34m(\u001b[0m\u001b[0;34m)\u001b[0m\u001b[0;34m\u001b[0m\u001b[0;34m\u001b[0m\u001b[0m\n\u001b[0m\u001b[1;32m      9\u001b[0m         \u001b[0mself\u001b[0m\u001b[0;34m.\u001b[0m\u001b[0mhidden1\u001b[0m \u001b[0;34m=\u001b[0m \u001b[0mtorch\u001b[0m\u001b[0;34m.\u001b[0m\u001b[0mnn\u001b[0m\u001b[0;34m.\u001b[0m\u001b[0mLinear\u001b[0m\u001b[0;34m(\u001b[0m\u001b[0minput_size\u001b[0m\u001b[0;34m,\u001b[0m \u001b[0mhidden_size\u001b[0m\u001b[0;34m)\u001b[0m\u001b[0;34m\u001b[0m\u001b[0;34m\u001b[0m\u001b[0m\n\u001b[1;32m     10\u001b[0m         \u001b[0mself\u001b[0m\u001b[0;34m.\u001b[0m\u001b[0mhidden2\u001b[0m \u001b[0;34m=\u001b[0m \u001b[0mtorch\u001b[0m\u001b[0;34m.\u001b[0m\u001b[0mnn\u001b[0m\u001b[0;34m.\u001b[0m\u001b[0mLinear\u001b[0m\u001b[0;34m(\u001b[0m\u001b[0mhidden_size\u001b[0m\u001b[0;34m,\u001b[0m \u001b[0mhidden_size\u001b[0m\u001b[0;34m)\u001b[0m\u001b[0;34m\u001b[0m\u001b[0;34m\u001b[0m\u001b[0m\n",
            "\u001b[0;31mTypeError\u001b[0m: super(type, obj): obj must be an instance or subtype of type"
          ]
        }
      ]
    },
    {
      "cell_type": "code",
      "source": [
        ""
      ],
      "metadata": {
        "id": "yTcA5utC1swA"
      },
      "execution_count": null,
      "outputs": []
    },
    {
      "cell_type": "code",
      "source": [
        ""
      ],
      "metadata": {
        "id": "nr9kysCgzDos"
      },
      "execution_count": null,
      "outputs": []
    },
    {
      "cell_type": "markdown",
      "source": [
        "###XGBoost"
      ],
      "metadata": {
        "id": "ubeGLj1t8JDr"
      }
    },
    {
      "cell_type": "code",
      "source": [
        "from xgboost import XGBClassifier\n",
        "xgbc = XGBClassifier()"
      ],
      "metadata": {
        "id": "UZXUu20o8NLN"
      },
      "execution_count": null,
      "outputs": []
    },
    {
      "cell_type": "code",
      "source": [
        "#將train的data做切割，分成x和y\n",
        "columns_X = set(df_train.columns) - {'Survived'}\n",
        "columns_y = ['Survived']\n",
        "\n",
        "train_X = df_train[columns_X]\n",
        "train_y = df_train[columns_y]\n",
        "\n",
        "from sklearn.model_selection import train_test_split\n",
        "X_train, X_test, y_train, y_test = train_test_split(train_X, train_y, test_size = 0.2, random_state=0)"
      ],
      "metadata": {
        "id": "3SCQM7nA8r4Y"
      },
      "execution_count": null,
      "outputs": []
    },
    {
      "cell_type": "code",
      "source": [
        "xgbc.fit(X_train, y_train)"
      ],
      "metadata": {
        "colab": {
          "base_uri": "https://localhost:8080/"
        },
        "id": "6Lg_AUwa8VGH",
        "outputId": "f5da0af1-23fe-464f-b478-a92b8bcef607"
      },
      "execution_count": null,
      "outputs": [
        {
          "output_type": "stream",
          "name": "stderr",
          "text": [
            "/usr/local/lib/python3.7/dist-packages/sklearn/preprocessing/_label.py:98: DataConversionWarning: A column-vector y was passed when a 1d array was expected. Please change the shape of y to (n_samples, ), for example using ravel().\n",
            "  y = column_or_1d(y, warn=True)\n",
            "/usr/local/lib/python3.7/dist-packages/sklearn/preprocessing/_label.py:133: DataConversionWarning: A column-vector y was passed when a 1d array was expected. Please change the shape of y to (n_samples, ), for example using ravel().\n",
            "  y = column_or_1d(y, warn=True)\n"
          ]
        },
        {
          "output_type": "execute_result",
          "data": {
            "text/plain": [
              "XGBClassifier(min_samples_leaf=1, min_samples_split=10, n_estimators=460,\n",
              "              oob_score=True, random_state=1)"
            ]
          },
          "metadata": {},
          "execution_count": 134
        }
      ]
    },
    {
      "cell_type": "code",
      "source": [
        "xgbc.score(X_test, y_test)"
      ],
      "metadata": {
        "colab": {
          "base_uri": "https://localhost:8080/"
        },
        "id": "rDg-KoEo8wVv",
        "outputId": "a9a3941a-f4a2-4675-f55b-4291fa20ce5a"
      },
      "execution_count": null,
      "outputs": [
        {
          "output_type": "execute_result",
          "data": {
            "text/plain": [
              "0.8379888268156425"
            ]
          },
          "metadata": {},
          "execution_count": 135
        }
      ]
    },
    {
      "cell_type": "code",
      "source": [
        "score = compute_score(xgbc, X=train_reduced, y=train_y, scoring='accuracy')\n",
        "print (\"CV score =\" , score)\n",
        "print (\"****\")"
      ],
      "metadata": {
        "colab": {
          "base_uri": "https://localhost:8080/"
        },
        "id": "0W9S6YBp80hO",
        "outputId": "3b0269d2-2f19-407e-b505-d60daa444d14"
      },
      "execution_count": null,
      "outputs": [
        {
          "output_type": "stream",
          "name": "stderr",
          "text": [
            "/usr/local/lib/python3.7/dist-packages/sklearn/preprocessing/_label.py:98: DataConversionWarning: A column-vector y was passed when a 1d array was expected. Please change the shape of y to (n_samples, ), for example using ravel().\n",
            "  y = column_or_1d(y, warn=True)\n",
            "/usr/local/lib/python3.7/dist-packages/sklearn/preprocessing/_label.py:133: DataConversionWarning: A column-vector y was passed when a 1d array was expected. Please change the shape of y to (n_samples, ), for example using ravel().\n",
            "  y = column_or_1d(y, warn=True)\n",
            "/usr/local/lib/python3.7/dist-packages/sklearn/preprocessing/_label.py:98: DataConversionWarning: A column-vector y was passed when a 1d array was expected. Please change the shape of y to (n_samples, ), for example using ravel().\n",
            "  y = column_or_1d(y, warn=True)\n",
            "/usr/local/lib/python3.7/dist-packages/sklearn/preprocessing/_label.py:133: DataConversionWarning: A column-vector y was passed when a 1d array was expected. Please change the shape of y to (n_samples, ), for example using ravel().\n",
            "  y = column_or_1d(y, warn=True)\n",
            "/usr/local/lib/python3.7/dist-packages/sklearn/preprocessing/_label.py:98: DataConversionWarning: A column-vector y was passed when a 1d array was expected. Please change the shape of y to (n_samples, ), for example using ravel().\n",
            "  y = column_or_1d(y, warn=True)\n",
            "/usr/local/lib/python3.7/dist-packages/sklearn/preprocessing/_label.py:133: DataConversionWarning: A column-vector y was passed when a 1d array was expected. Please change the shape of y to (n_samples, ), for example using ravel().\n",
            "  y = column_or_1d(y, warn=True)\n",
            "/usr/local/lib/python3.7/dist-packages/sklearn/preprocessing/_label.py:98: DataConversionWarning: A column-vector y was passed when a 1d array was expected. Please change the shape of y to (n_samples, ), for example using ravel().\n",
            "  y = column_or_1d(y, warn=True)\n",
            "/usr/local/lib/python3.7/dist-packages/sklearn/preprocessing/_label.py:133: DataConversionWarning: A column-vector y was passed when a 1d array was expected. Please change the shape of y to (n_samples, ), for example using ravel().\n",
            "  y = column_or_1d(y, warn=True)\n",
            "/usr/local/lib/python3.7/dist-packages/sklearn/preprocessing/_label.py:98: DataConversionWarning: A column-vector y was passed when a 1d array was expected. Please change the shape of y to (n_samples, ), for example using ravel().\n",
            "  y = column_or_1d(y, warn=True)\n",
            "/usr/local/lib/python3.7/dist-packages/sklearn/preprocessing/_label.py:133: DataConversionWarning: A column-vector y was passed when a 1d array was expected. Please change the shape of y to (n_samples, ), for example using ravel().\n",
            "  y = column_or_1d(y, warn=True)\n"
          ]
        },
        {
          "output_type": "stream",
          "name": "stdout",
          "text": [
            "CV score = 0.7891657774151026\n",
            "****\n"
          ]
        }
      ]
    },
    {
      "cell_type": "code",
      "source": [
        ""
      ],
      "metadata": {
        "id": "QomZAucQ9S1T"
      },
      "execution_count": null,
      "outputs": []
    },
    {
      "cell_type": "code",
      "source": [
        ""
      ],
      "metadata": {
        "id": "kHsKoZZq9Wvf"
      },
      "execution_count": null,
      "outputs": []
    }
  ]
}