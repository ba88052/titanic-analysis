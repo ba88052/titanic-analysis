{
  "nbformat": 4,
  "nbformat_minor": 0,
  "metadata": {
    "colab": {
      "name": "Titanics to kaggle.ipynb",
      "provenance": [],
      "authorship_tag": "ABX9TyMt36rR8bGhZ/mNY+GqPBIS",
      "include_colab_link": true
    },
    "kernelspec": {
      "name": "python3",
      "display_name": "Python 3"
    },
    "language_info": {
      "name": "python"
    }
  },
  "cells": [
    {
      "cell_type": "markdown",
      "metadata": {
        "id": "view-in-github",
        "colab_type": "text"
      },
      "source": [
        "<a href=\"https://colab.research.google.com/github/ba88052/titanic-analysis/blob/main/Titanics_to_kaggle.ipynb\" target=\"_parent\"><img src=\"https://colab.research.google.com/assets/colab-badge.svg\" alt=\"Open In Colab\"/></a>"
      ]
    },
    {
      "cell_type": "markdown",
      "source": [
        "##數據清理"
      ],
      "metadata": {
        "id": "A1JePTsI-PrI"
      }
    },
    {
      "cell_type": "code",
      "source": [
        "import pandas as pd\n",
        "import matplotlib.pyplot as plt\n",
        "import seaborn as sns\n",
        "import numpy as np\n",
        "\n",
        "url_train = \"https://raw.githubusercontent.com/ba88052/titanic-analysis/main/Titanic_Data/train.csv\"\n",
        "url_test = \"https://raw.githubusercontent.com/ba88052/titanic-analysis/main/Titanic_Data/test.csv\"\n",
        "df_train = pd.read_csv(url_train)\n",
        "df_test = pd.read_csv(url_test)\n",
        "df_data = [df_train, df_test]\n",
        "df_data = pd.concat(df_data)"
      ],
      "metadata": {
        "id": "ZKm6AsUeFw95"
      },
      "execution_count": 107,
      "outputs": []
    },
    {
      "cell_type": "code",
      "source": [
        "#分出姓氏\n",
        "def get_Surname(df):\n",
        "    df['Surname'] = df.Name.str.split(', ', expand=True)[0]\n",
        "\n",
        "##分出Title 並將Title分成 Officer Royalty Mr Mrs Miss Master\n",
        "\n",
        "def get_titles(df):\n",
        "    df['Title'] = df.Name.str.split(', ', expand=True)[1]\n",
        "    df['Title'] = df.Title.str.split('.', expand=True)[0]\n",
        "\n",
        "    Title_Dictionary = {\n",
        "    \"Capt\": \"Officer\",\n",
        "    \"Col\": \"Officer\",\n",
        "    \"Major\": \"Officer\",\n",
        "    \"Dr\" : \"Officer\",\n",
        "    \"Rev\": \"Officer\",\n",
        "    \"Jonkheer\" : \"Royalty\",\n",
        "    \"Don\" : \"Royalty\",\n",
        "    \"Sir\" : \"Royalty\",\n",
        "    \"Lady\" : \"Royalty\",\n",
        "    \"the Countess\":\"Royalty\",\n",
        "    \"Mme\": \"Mrs\",\n",
        "    \"Mlle\": \"Miss\",\n",
        "    \"Ms\": \"Mrs\",\n",
        "    \"Mr\" : \"Mr\",\n",
        "    \"Mrs\" : \"Mrs\",\n",
        "    \"Miss\" : \"Miss\",\n",
        "    \"Master\" : \"Master\"\n",
        "}\n",
        "    df['Title'] = df['Name'].map(lambda name:name.split(',')[1].split('.')[0].strip())\n",
        "    df['Title'] = df.Title.map(Title_Dictionary)\n",
        "\n",
        "#性別進行編碼\n",
        "def get_sex(df):\n",
        "    sex_encoding = {\n",
        "        'male': 0,\n",
        "        'female': 1\n",
        "    }\n",
        "    df['Sex'] = df['Sex'].map(lambda d: sex_encoding[d])\n",
        "\n",
        "#加入Family_size欄位（為Parch + SibSp+1)，並區分家庭大小\n",
        "def get_family_size(df):\n",
        "    df[\"Family_size\"] = df[\"Parch\"] + df[\"SibSp\"] +1\n",
        "    df['Single'] = df['Family_size'].map(lambda s: 1 if s == 1 else 0)\n",
        "    df['Small'] = df['Family_size'].map(lambda s: 1 if 2 <= s <= 4 else 0)\n",
        "    df['Large'] = df['Family_size'].map(lambda s: 1 if 5 <= s else 0)\n",
        "\n",
        "#cabin拉出是否有艙號\n",
        "def get_cabin(df):\n",
        "    df['Cabin'] = df['Cabin'].apply( lambda x: 1 if not pd.isnull(x) else 0 )\n",
        "    df['Cabin'].unique()\n",
        "\n",
        "#處理遺失值\n",
        "def deal_num(df):\n",
        "    df['Age'].fillna(df.groupby(['Sex', \"Title\"])[\"Age\"].transform('median'),inplace=True)\n",
        "    df[\"Embarked\"].fillna(\"S\", inplace=True)\n",
        "    df[\"Fare\"].fillna(df[\"Fare\"].mean(), inplace = True)\n",
        "\n",
        "def deal_with_data(df):\n",
        "    get_titles(df)\n",
        "    get_Surname(df)\n",
        "    get_sex(df)\n",
        "    get_cabin(df)\n",
        "    get_family_size(df)\n",
        "    deal_num(df)\n",
        "    df = pd.get_dummies(df, columns = [\"Embarked\"])\n",
        "    df = pd.get_dummies(df, columns = [\"Title\"])\n",
        "    df = pd.get_dummies(df, columns = [\"Surname\"])\n",
        "    df = df.drop([\"Name\", \"Ticket\", \"Family_size\",\"SibSp\", \"Parch\"],axis=1)\n",
        "    return df"
      ],
      "metadata": {
        "id": "MNZ0rs4LFyI7"
      },
      "execution_count": 108,
      "outputs": []
    },
    {
      "cell_type": "code",
      "source": [
        "df_data = deal_with_data(df_data)"
      ],
      "metadata": {
        "id": "ED5P4g_NF1D0"
      },
      "execution_count": 109,
      "outputs": []
    },
    {
      "cell_type": "code",
      "source": [
        ""
      ],
      "metadata": {
        "id": "EXorsSWuIkHD"
      },
      "execution_count": 109,
      "outputs": []
    },
    {
      "cell_type": "code",
      "source": [
        "#將train的data做切割，分成x和y\n",
        "columns_X = set(df_data.columns) - {'Survived'}\n",
        "columns_y = ['Survived']\n",
        "\n",
        "train_X = df_data[0:891][columns_X]\n",
        "train_y = df_data[0:891][columns_y]\n",
        "test_X = df_data[891:][columns_X]"
      ],
      "metadata": {
        "id": "u4Bp793wF_HW"
      },
      "execution_count": 110,
      "outputs": []
    },
    {
      "cell_type": "code",
      "source": [
        "#因特徵量巨大，運用隨機森林，從模型中選擇較有用的特徵\n",
        "\n",
        "from sklearn.feature_selection import SelectFromModel\n",
        "from sklearn.ensemble import RandomForestClassifier\n",
        "\n",
        "\n",
        "clf = RandomForestClassifier(n_estimators=50, max_features='sqrt')\n",
        "clf = clf.fit(train_X, train_y)\n",
        "features = pd.DataFrame()\n",
        "features['feature'] = train_X.columns\n",
        "features['importance'] = clf.feature_importances_\n",
        "features.sort_values(by=['importance'], ascending=True, inplace=True)\n",
        "features.set_index('feature', inplace=True)\n",
        "model = SelectFromModel(clf, prefit=True, max_features=115)\n",
        "train_reduced = model.transform(train_X)\n",
        "test_reduced = model.transform(test_X)\n",
        "train_reduced.shape"
      ],
      "metadata": {
        "colab": {
          "base_uri": "https://localhost:8080/"
        },
        "id": "qN0k6Wf9GETx",
        "outputId": "d959e1a1-5406-49bd-8efd-2efc83bb50d5"
      },
      "execution_count": 140,
      "outputs": [
        {
          "output_type": "stream",
          "name": "stderr",
          "text": [
            "/usr/local/lib/python3.7/dist-packages/ipykernel_launcher.py:8: DataConversionWarning: A column-vector y was passed when a 1d array was expected. Please change the shape of y to (n_samples,), for example using ravel().\n",
            "  \n",
            "/usr/local/lib/python3.7/dist-packages/sklearn/base.py:444: UserWarning: X has feature names, but SelectFromModel was fitted without feature names\n",
            "  f\"X has feature names, but {self.__class__.__name__} was fitted without\"\n",
            "/usr/local/lib/python3.7/dist-packages/sklearn/base.py:444: UserWarning: X has feature names, but SelectFromModel was fitted without feature names\n",
            "  f\"X has feature names, but {self.__class__.__name__} was fitted without\"\n"
          ]
        },
        {
          "output_type": "execute_result",
          "data": {
            "text/plain": [
              "(891, 115)"
            ]
          },
          "metadata": {},
          "execution_count": 140
        }
      ]
    },
    {
      "cell_type": "code",
      "source": [
        ""
      ],
      "metadata": {
        "colab": {
          "base_uri": "https://localhost:8080/"
        },
        "id": "oiMQvy18jKYx",
        "outputId": "5294f8d1-3d89-4161-a7ea-c3949f3ef9e9"
      },
      "execution_count": 136,
      "outputs": [
        {
          "output_type": "execute_result",
          "data": {
            "text/plain": [
              "(891, 893)"
            ]
          },
          "metadata": {},
          "execution_count": 136
        }
      ]
    },
    {
      "cell_type": "code",
      "source": [
        "# find the best max_features\n",
        "scores = {}\n",
        "for i in range(115,350):\n",
        "    model = SelectFromModel(clf, prefit=True, max_features=i)\n",
        "    train_reduced = model.transform(train_X)\n",
        "    score = compute_score(RFC, X=train_reduced, y=train_y, scoring='accuracy')\n",
        "    scores[i] = score\n"
      ],
      "metadata": {
        "id": "OI55TY0AKE6v"
      },
      "execution_count": null,
      "outputs": []
    },
    {
      "cell_type": "code",
      "source": [
        "scores1 = scores\n",
        "max_key = max(scores1, key = scores1.get)\n",
        "max_key,scores[max_key]"
      ],
      "metadata": {
        "colab": {
          "base_uri": "https://localhost:8080/"
        },
        "id": "V7F8VYupjShZ",
        "outputId": "212ff5f2-1823-4a41-ad7c-1424c65203ff"
      },
      "execution_count": 139,
      "outputs": [
        {
          "output_type": "execute_result",
          "data": {
            "text/plain": [
              "(115, 0.8316301550436258)"
            ]
          },
          "metadata": {},
          "execution_count": 139
        }
      ]
    },
    {
      "cell_type": "markdown",
      "source": [
        "##使用的模型 RFC："
      ],
      "metadata": {
        "id": "P9Yon7Ue-cdq"
      }
    },
    {
      "cell_type": "code",
      "source": [
        "#使用的模型：\n",
        "# 隨機森林參數：\n",
        "# n_estimators: 樹的數量(default=10)。\n",
        "# min_samples_leaf: 最終葉節點最少樣本數(default=1)；\n",
        "#                   當樣本不大時，可不設定使用預設，若樣本數量非常大時，則推薦增加此參數值。\n",
        "# min_samples_split:節點再劃分時所需的最小樣本數(default=2)；\n",
        "#                   當樣本不大時，可不設定使用預設，若樣本數量非常大時，則推薦增加此參數值。\n",
        "# oob_score: 是否採用袋外樣本(out-of-bag samples)來評估模型的準確度(default=False)。\n",
        "from sklearn.ensemble import RandomForestClassifier\n",
        "\n",
        "RFC = RandomForestClassifier( n_estimators = 460,\n",
        "                              min_samples_split = 10,\n",
        "                              min_samples_leaf = 1,\n",
        "                              oob_score = True,\n",
        "                              random_state = 1,)\n"
      ],
      "metadata": {
        "id": "IydhaP1KKJzB"
      },
      "execution_count": 141,
      "outputs": []
    },
    {
      "cell_type": "code",
      "source": [
        "# 內測分數\n",
        "#將交叉驗證合併成函式reyurn mean()值\n",
        "from sklearn.model_selection import cross_val_score\n",
        "\n",
        "def compute_score(clf, X, y, scoring='accuracy'):\n",
        "    xval = cross_val_score(clf, X, y, cv = 5, scoring=scoring)\n",
        "    return np.mean(xval)\n",
        "\n",
        "score = compute_score(RFC, X=train_reduced, y=train_y, scoring='accuracy')\n",
        "print (\"CV score =\" , score)\n",
        "print (\"****\")"
      ],
      "metadata": {
        "colab": {
          "base_uri": "https://localhost:8080/"
        },
        "id": "d9l_MxjaKK4y",
        "outputId": "c0a3bc4a-8d97-4247-a00a-d003c3bd8bb8"
      },
      "execution_count": 142,
      "outputs": [
        {
          "output_type": "stream",
          "name": "stderr",
          "text": [
            "/usr/local/lib/python3.7/dist-packages/sklearn/model_selection/_validation.py:680: DataConversionWarning: A column-vector y was passed when a 1d array was expected. Please change the shape of y to (n_samples,), for example using ravel().\n",
            "  estimator.fit(X_train, y_train, **fit_params)\n",
            "/usr/local/lib/python3.7/dist-packages/sklearn/model_selection/_validation.py:680: DataConversionWarning: A column-vector y was passed when a 1d array was expected. Please change the shape of y to (n_samples,), for example using ravel().\n",
            "  estimator.fit(X_train, y_train, **fit_params)\n",
            "/usr/local/lib/python3.7/dist-packages/sklearn/model_selection/_validation.py:680: DataConversionWarning: A column-vector y was passed when a 1d array was expected. Please change the shape of y to (n_samples,), for example using ravel().\n",
            "  estimator.fit(X_train, y_train, **fit_params)\n",
            "/usr/local/lib/python3.7/dist-packages/sklearn/model_selection/_validation.py:680: DataConversionWarning: A column-vector y was passed when a 1d array was expected. Please change the shape of y to (n_samples,), for example using ravel().\n",
            "  estimator.fit(X_train, y_train, **fit_params)\n",
            "/usr/local/lib/python3.7/dist-packages/sklearn/model_selection/_validation.py:680: DataConversionWarning: A column-vector y was passed when a 1d array was expected. Please change the shape of y to (n_samples,), for example using ravel().\n",
            "  estimator.fit(X_train, y_train, **fit_params)\n"
          ]
        },
        {
          "output_type": "stream",
          "name": "stdout",
          "text": [
            "CV score = 0.8316301550436256\n",
            "****\n"
          ]
        }
      ]
    },
    {
      "cell_type": "code",
      "source": [
        "RFC.fit(train_reduced, train_y)\n",
        "Ans = RFC.predict(test_reduced)"
      ],
      "metadata": {
        "colab": {
          "base_uri": "https://localhost:8080/"
        },
        "id": "BmxrmNxuKMBt",
        "outputId": "11c799c1-b910-4349-f228-e4cd4aa8437b"
      },
      "execution_count": 143,
      "outputs": [
        {
          "output_type": "stream",
          "name": "stderr",
          "text": [
            "/usr/local/lib/python3.7/dist-packages/ipykernel_launcher.py:1: DataConversionWarning: A column-vector y was passed when a 1d array was expected. Please change the shape of y to (n_samples,), for example using ravel().\n",
            "  \"\"\"Entry point for launching an IPython kernel.\n"
          ]
        }
      ]
    },
    {
      "cell_type": "code",
      "source": [
        "Ansdf = pd.DataFrame()\n",
        "Ansdf[\"PassengerId\"] = test_X[\"PassengerId\"]\n",
        "Ansdf[\"Survived\"] = Ans.astype(int)\n",
        "Ansdf\n",
        "Ansdf.to_csv(r'TitanicANS.csv',index=False)"
      ],
      "metadata": {
        "id": "itwzRtvcK_70"
      },
      "execution_count": 144,
      "outputs": []
    },
    {
      "cell_type": "markdown",
      "source": [
        "#XGB"
      ],
      "metadata": {
        "id": "odo4MfdFhI1R"
      }
    },
    {
      "cell_type": "code",
      "source": [
        "from xgboost import XGBClassifier\n",
        "xgbc = XGBClassifier()"
      ],
      "metadata": {
        "id": "i5QjPXsPhNZv"
      },
      "execution_count": 124,
      "outputs": []
    },
    {
      "cell_type": "code",
      "source": [
        "xgbc.fit(train_X, train_y)\n",
        "Ans = xgbc.predict(test_X)\n",
        "Ansdf = pd.DataFrame()\n",
        "Ansdf[\"PassengerId\"] = test_X[\"PassengerId\"]\n",
        "Ansdf[\"Survived\"] = Ans.astype(int)\n",
        "Ansdf.to_csv(r'TitanicANS.csv',index=False)"
      ],
      "metadata": {
        "colab": {
          "base_uri": "https://localhost:8080/"
        },
        "id": "AFa-g94-hRE6",
        "outputId": "0821196a-0727-42b9-e272-a1d05c746355"
      },
      "execution_count": 128,
      "outputs": [
        {
          "output_type": "stream",
          "name": "stderr",
          "text": [
            "/usr/local/lib/python3.7/dist-packages/sklearn/preprocessing/_label.py:98: DataConversionWarning: A column-vector y was passed when a 1d array was expected. Please change the shape of y to (n_samples, ), for example using ravel().\n",
            "  y = column_or_1d(y, warn=True)\n",
            "/usr/local/lib/python3.7/dist-packages/sklearn/preprocessing/_label.py:133: DataConversionWarning: A column-vector y was passed when a 1d array was expected. Please change the shape of y to (n_samples, ), for example using ravel().\n",
            "  y = column_or_1d(y, warn=True)\n"
          ]
        }
      ]
    },
    {
      "cell_type": "code",
      "source": [
        "xgbc.fit(train_reduced, train_y)\n",
        "Ans1 = xgbc.predict(test_reduced)\n",
        "Ansdf1 = pd.DataFrame()\n",
        "Ansdf1[\"PassengerId\"] = test_X[\"PassengerId\"]\n",
        "Ansdf1[\"Survived\"] = Ans.astype(int)\n",
        "Ansdf1.to_csv(r'TitanicANS1.csv',index=False)"
      ],
      "metadata": {
        "colab": {
          "base_uri": "https://localhost:8080/"
        },
        "id": "ZUIAOs6qhUSQ",
        "outputId": "76614424-ff28-4804-a5ba-e397a41291ea"
      },
      "execution_count": 129,
      "outputs": [
        {
          "output_type": "stream",
          "name": "stderr",
          "text": [
            "/usr/local/lib/python3.7/dist-packages/sklearn/preprocessing/_label.py:98: DataConversionWarning: A column-vector y was passed when a 1d array was expected. Please change the shape of y to (n_samples, ), for example using ravel().\n",
            "  y = column_or_1d(y, warn=True)\n",
            "/usr/local/lib/python3.7/dist-packages/sklearn/preprocessing/_label.py:133: DataConversionWarning: A column-vector y was passed when a 1d array was expected. Please change the shape of y to (n_samples, ), for example using ravel().\n",
            "  y = column_or_1d(y, warn=True)\n"
          ]
        }
      ]
    },
    {
      "cell_type": "code",
      "source": [
        ""
      ],
      "metadata": {
        "id": "_k8zj34SiBUe"
      },
      "execution_count": null,
      "outputs": []
    }
  ]
}